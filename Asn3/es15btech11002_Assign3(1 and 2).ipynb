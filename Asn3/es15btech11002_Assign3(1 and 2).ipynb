{
 "cells": [
  {
   "cell_type": "markdown",
   "metadata": {},
   "source": [
    "# Assignment 3\n",
    "ES15BTECH11002"
   ]
  },
  {
   "cell_type": "markdown",
   "metadata": {},
   "source": [
    "## Base class"
   ]
  },
  {
   "cell_type": "code",
   "execution_count": 65,
   "metadata": {},
   "outputs": [],
   "source": [
    "import numpy as np\n",
    "import random\n",
    "import time\n",
    "import matplotlib.pyplot as plt\n",
    "\n",
    "num_chars = 256\n",
    "\n",
    "class RNN:\n",
    "\n",
    "    def __init__(self, num_hidden):\n",
    "\n",
    "        self.num_hidden = num_hidden\n",
    "\n",
    "        #input to hidden\n",
    "        self.U = np.random.uniform(-np.sqrt(1./num_chars), np.sqrt(1./num_chars), (num_hidden, num_chars))\n",
    "        #hidden to output\n",
    "        self.V = np.random.uniform(-np.sqrt(1./num_hidden), np.sqrt(1./num_hidden), (num_chars, num_hidden))\n",
    "        #recurrent connection in the hidden\n",
    "        self.W = np.random.uniform(-np.sqrt(1./num_hidden), np.sqrt(1./num_hidden), (num_hidden, num_hidden))\n",
    "    \n",
    "    #cross entropy loss\n",
    "    def loss(self, x):\n",
    "        N = len(x)\n",
    "        x = x[0:len(x)-1]\n",
    "        y = x[1:len(x)]\n",
    "        o, h = self.forward_propagation(x)\n",
    "        correct_word_predictions = o[np.arange(len(y)), y]\n",
    "        L = -1 *np.sum(np.log(correct_word_predictions))\n",
    "        return L/N\n",
    "\n",
    "    def forward_propagation(self, x, temp=1):\n",
    "        T = len(x)\n",
    "\n",
    "        # we need one extra hidden, we initialize all to zero and save them for later\n",
    "        hidden = np.zeros((T+1, self.num_hidden))\n",
    "        hidden[-1] = np.zeros(self.num_hidden)\n",
    "\n",
    "        # we set T outputs to 0 and save them for later \n",
    "        out = np.zeros((T, num_chars))\n",
    "\n",
    "        #computing forward prop\n",
    "        for t in np.arange(T):\n",
    "            hidden[t] = np.tanh(self.U[:,x[t]] + np.dot(self.W, hidden[t-1]))\n",
    "            out[t] = softmax(np.dot(self.V, hidden[t]), temp)\n",
    "        return out, hidden\n",
    "    \n",
    "    def bptt(self, x, y):\n",
    "        T = len(y)\n",
    "        # Perform forward propagation\n",
    "        o, h = self.forward_propagation(x)\n",
    "        # We accumulate the gradients in these variables\n",
    "        dLdU = np.zeros(self.U.shape)\n",
    "        dLdV = np.zeros(self.V.shape)\n",
    "        dLdW = np.zeros(self.W.shape)\n",
    "        \n",
    "        delta_out = o\n",
    "        delta_out[np.arange(len(y)),y] -= 1\n",
    "        # For each output backwards...\n",
    "        for t in np.arange(T)[::-1]:\n",
    "            dLdV += np.outer(delta_out[t], h[t].T)\n",
    "            # Initial delta calculation: dL/dz\n",
    "            delta_t = np.dot(self.V.T, delta_out[t]) * (1 - (h[t] ** 2))\n",
    "            # Backpropagation through time (for at most self.bptt_truncate steps)\n",
    "            for step in np.arange(max(0, t), t+1)[::-1]:\n",
    "                # Add to gradients at each previous step\n",
    "                dLdW += np.outer(delta_t, h[step-1])\n",
    "                dLdU[:,x[step]] += delta_t\n",
    "                # Update delta for next step dL/dz at t-1\n",
    "                delta_t = np.dot(self.W.T, delta_t) * (1 - (h[step-1] ** 2))\n",
    "        return dLdU, dLdV, dLdW\n",
    "    \n",
    "    def predict(self, x, temp=1):\n",
    "        out, hidden_states = self.forward_propagation(x, temp)\n",
    "        ascii_number = np.argmax(out[-1])\n",
    "        return ascii_number\n",
    "\n",
    "    def sgd_step(self, x, y, lr):\n",
    "        dLdU, dLdV, dLdW = self.bptt(x,y)\n",
    "\n",
    "        self.U -= lr * dLdU\n",
    "        self.V -= lr * dLdV\n",
    "        self.W -= lr * dLdW\n"
   ]
  },
  {
   "cell_type": "markdown",
   "metadata": {},
   "source": [
    "### Function to plot "
   ]
  },
  {
   "cell_type": "code",
   "execution_count": 66,
   "metadata": {},
   "outputs": [],
   "source": [
    "def graph(toplot, labels, title, xlabel, ylabel, no_epoch):\n",
    "    plt.title(title)\n",
    "    plt.xlabel(xlabel)\n",
    "    plt.ylabel(ylabel)\n",
    "    \n",
    "    for i in range(len(toplot)):\n",
    "        plt.plot(no_epoch, toplot[i], label = labels[i])\n",
    "        \n",
    "    plt.legend(loc = 'best')\n",
    "    plt.show()"
   ]
  },
  {
   "cell_type": "markdown",
   "metadata": {},
   "source": [
    "### Training Method"
   ]
  },
  {
   "cell_type": "code",
   "execution_count": 67,
   "metadata": {},
   "outputs": [],
   "source": [
    "def train(model, x, lr, sequence_len, num_epochs, print_freq, breakpoint = False):\n",
    "    train_loss = []\n",
    "    no_epoch = []\n",
    "    for epoch in range(1,num_epochs+1):\n",
    "        i = 0\n",
    "        no_epoch += [epoch]\n",
    "        trainloss = model.loss(x[:1000])\n",
    "        train_loss += [trainloss]\n",
    "                    \n",
    "        while (i+1+sequence_len) < len(x):\n",
    "            model.sgd_step(x[i:i+sequence_len],x[i+1:i+1+sequence_len], lr)\n",
    "            i += sequence_len\n",
    "            \n",
    "        if epoch % print_freq == 0:    \n",
    "            print time.strftime(\"%Y-%m-%d %H:%M:%S\")\n",
    "            print ('\\tepoch #%d: \\tloss = %f' %(epoch, trainloss))\n",
    "            if(breakpoint):\n",
    "                text = generate(model, start = ord('T'), length = 100, temperature = 1, sequence_len = 50)\n",
    "                print 'Generated text for epoch', epoch\n",
    "                display(text)\n",
    "                \n",
    "    toplot = [train_loss]\n",
    "    labels = ['Training loss']\n",
    "    graph(toplot, labels, 'Training Loss vs epochs', 'epochs', 'Training Loss', no_epoch)"
   ]
  },
  {
   "cell_type": "markdown",
   "metadata": {},
   "source": [
    "### Softmax with temperature"
   ]
  },
  {
   "cell_type": "code",
   "execution_count": 68,
   "metadata": {},
   "outputs": [],
   "source": [
    "def softmax(a,temp):          # softmax with temperature\n",
    "    numer = np.exp(a/temp)\n",
    "    out = numer / numer.sum()\n",
    "    return out"
   ]
  },
  {
   "cell_type": "markdown",
   "metadata": {},
   "source": [
    "# 1\n"
   ]
  },
  {
   "cell_type": "markdown",
   "metadata": {},
   "source": [
    "### Method to read file "
   ]
  },
  {
   "cell_type": "code",
   "execution_count": 69,
   "metadata": {},
   "outputs": [],
   "source": [
    "def read_file(filename):\n",
    "    \n",
    "    with open(filename, 'rb') as f:\n",
    "        x = f.read()\n",
    "    x_train = [ord(letter) for letter in x]\n",
    "    unique = len(set(x))\n",
    "    print ('There are %d unique characters\\n' %unique)\n",
    "    return x_train"
   ]
  },
  {
   "cell_type": "markdown",
   "metadata": {},
   "source": [
    "### Method to generate text"
   ]
  },
  {
   "cell_type": "code",
   "execution_count": 70,
   "metadata": {},
   "outputs": [],
   "source": [
    "def generate(model, start, length, temperature, sequence_len):  \n",
    "    text = []\n",
    "    text.append(start)\n",
    "\n",
    "    for i in range(length-1):\n",
    "        begin = max(0, len(text)-sequence_len)\n",
    "        end = len(text)\n",
    "        next_char = model.predict(text[begin:end], temperature)\n",
    "        text.append(next_char)\n",
    "    return text"
   ]
  },
  {
   "cell_type": "markdown",
   "metadata": {},
   "source": [
    "### Method to display text"
   ]
  },
  {
   "cell_type": "code",
   "execution_count": 71,
   "metadata": {},
   "outputs": [],
   "source": [
    "def display(text):\n",
    "    \n",
    "    print ('\\nGenerating text of length %d' %len(text))\n",
    "    gen = [str(chr(x)) for x in text]     # convert ascii number to corresponding character\n",
    "\n",
    "    #join list of chars and print\n",
    "    print 'Generated text: '\n",
    "    print ''.join(gen)\n",
    "\n",
    "    print \"\\ndone!\""
   ]
  },
  {
   "cell_type": "markdown",
   "metadata": {},
   "source": [
    "### Hyperparameters"
   ]
  },
  {
   "cell_type": "code",
   "execution_count": 72,
   "metadata": {},
   "outputs": [],
   "source": [
    "filename = 'novel.txt'\n",
    "hidden_size = 100\n",
    "learning_rate = 0.01\n",
    "num_epochs = 24\n",
    "print_freq = 4\n"
   ]
  },
  {
   "cell_type": "markdown",
   "metadata": {},
   "source": [
    "__________----------------------------------------------------------------------------------------------___________\n"
   ]
  },
  {
   "cell_type": "markdown",
   "metadata": {},
   "source": [
    "## 2b"
   ]
  },
  {
   "cell_type": "markdown",
   "metadata": {},
   "source": [
    "### 2b i) and ii)"
   ]
  },
  {
   "cell_type": "code",
   "execution_count": 73,
   "metadata": {},
   "outputs": [],
   "source": [
    "net = RNN(hidden_size)"
   ]
  },
  {
   "cell_type": "code",
   "execution_count": 74,
   "metadata": {},
   "outputs": [],
   "source": [
    "start = ord('l')      #start character of generated text                \n",
    "gen_length = 100       # number of characters to generate\n",
    "temperature = 1       # temperature to bias the predictions to most probable or to uniformly predict every char \n",
    "sequence_len = 50"
   ]
  },
  {
   "cell_type": "code",
   "execution_count": 75,
   "metadata": {},
   "outputs": [
    {
     "name": "stdout",
     "output_type": "stream",
     "text": [
      "There are 98 unique characters\n",
      "\n",
      "Training with\n",
      "hidden_size = 100, learning_rate = 0.010000, sequence_len = 50, num_epochs = 24\n",
      "\n",
      "2018-04-26 23:39:11\n",
      "\tepoch #4: \tloss = 2.783400\n",
      "Generated text for epoch 4\n",
      "\n",
      "Generating text of length 100\n",
      "Generated text: \n",
      "The not tear to the Project Gutenberg-tm anc to the Project Gutenberg-tm anc to the Project Gutenber\n",
      "\n",
      "done!\n",
      "2018-04-26 23:44:18\n",
      "\tepoch #8: \tloss = 2.570852\n",
      "Generated text for epoch 8\n",
      "\n",
      "Generating text of length 100\n",
      "Generated text: \n",
      "The Project Gutenberg-tme to teme to teme to teme to teme to teme to teme to teme to teme to teme to\n",
      "\n",
      "done!\n",
      "2018-04-26 23:49:47\n",
      "\tepoch #12: \tloss = 2.566886\n",
      "Generated text for epoch 12\n",
      "\n",
      "Generating text of length 100\n",
      "Generated text: \n",
      "The to mutenberg-tm eBooks and of the Project Gutenberg-tm eBooks to cup to the Project Gutenberg-tm\n",
      "\n",
      "done!\n",
      "2018-04-26 23:54:39\n",
      "\tepoch #16: \tloss = 2.506994\n",
      "Generated text for epoch 16\n",
      "\n",
      "Generating text of length 100\n",
      "Generated text: \n",
      "The Project Gutenbergerg-tm eBooks to to aroouted to her so he sou to tex Pot to sute to her such of\n",
      "\n",
      "done!\n",
      "2018-04-26 23:59:32\n",
      "\tepoch #20: \tloss = 2.404025\n",
      "Generated text for epoch 20\n",
      "\n",
      "Generating text of length 100\n",
      "Generated text: \n",
      "The Found emect Gutenberg-tm eBook to cour to to teppred of to tep out in to teppr to cour to to tep\n",
      "\n",
      "done!\n",
      "2018-04-27 00:04:24\n",
      "\tepoch #24: \tloss = 2.347364\n",
      "Generated text for epoch 24\n",
      "\n",
      "Generating text of length 100\n",
      "Generated text: \n",
      "The Pounder erght te to te to te ton erourg ter to te to te to tee to to te to tepporm terore to hea\n",
      "\n",
      "done!\n"
     ]
    },
    {
     "data": {
      "image/png": "[encoded data removed]",
      "text/plain": [
       "<matplotlib.figure.Figure at 0x7f1a2439a490>"
      ]
     },
     "metadata": {},
     "output_type": "display_data"
    }
   ],
   "source": [
    "x = read_file(filename)\n",
    "\n",
    "print 'Training with'\n",
    "print ('hidden_size = %d, learning_rate = %f, sequence_len = %d, num_epochs = %d\\n' \\\n",
    "%(hidden_size, learning_rate, sequence_len, num_epochs))\n",
    "\n",
    "\n",
    "train(net, x, learning_rate, sequence_len, num_epochs, print_freq, breakpoint = True)\n",
    "\n"
   ]
  },
  {
   "cell_type": "code",
   "execution_count": 78,
   "metadata": {},
   "outputs": [
    {
     "name": "stdout",
     "output_type": "stream",
     "text": [
      "\n",
      "Generating text of length 100\n",
      "Generated text: \n",
      "l to to to te ton eroject Gutenberg to to te ton eroject Gutenberg to to te ton eroject Gutenberg to\n",
      "\n",
      "done!\n"
     ]
    }
   ],
   "source": [
    "gen_text = generate(net, start, gen_length, temperature, sequence_len)\n",
    "display(gen_text)"
   ]
  },
  {
   "cell_type": "markdown",
   "metadata": {},
   "source": [
    "## Report"
   ]
  },
  {
   "cell_type": "raw",
   "metadata": {},
   "source": [
    "A total of 24 epochs were run to train the model.\n",
    "\n",
    "Breaking points were kept after every 4 iterations.\n",
    "\n",
    "The network learnt more words thorugh epochs and does not print the same words again.\n",
    "It also learned grammar rules as it puts a space after a comma.\n",
    "\n",
    "The general structure of the senetences improved a lot during the eopchs."
   ]
  },
  {
   "cell_type": "markdown",
   "metadata": {},
   "source": [
    "### 2b iii)"
   ]
  },
  {
   "cell_type": "markdown",
   "metadata": {},
   "source": [
    "#### Temp1"
   ]
  },
  {
   "cell_type": "markdown",
   "metadata": {},
   "source": [
    "##### text1"
   ]
  },
  {
   "cell_type": "code",
   "execution_count": 85,
   "metadata": {},
   "outputs": [],
   "source": [
    "start = ord('a')      #start character of generated text                \n",
    "gen_length = 100       # number of characters to generate\n",
    "temperature = 1       # temperature to bias the predictions to most probable or to uniformly predict every char \n",
    "sequence_len = 50"
   ]
  },
  {
   "cell_type": "code",
   "execution_count": 86,
   "metadata": {},
   "outputs": [
    {
     "name": "stdout",
     "output_type": "stream",
     "text": [
      "Generated text of length = 100, temperature = 1, start letter = 97\n",
      "\n",
      "\n",
      "Generating text of length 100\n",
      "Generated text: \n",
      "at to to te to te to tepporm terore to hears that to to te to te to tepporm terore to hears that to \n",
      "\n",
      "done!\n"
     ]
    }
   ],
   "source": [
    "\n",
    "print ('Generated text of length = %d, temperature = %d, start letter = %d\\n'\\\n",
    "        %(gen_length, temperature, start)\n",
    "      )\n",
    "gen_text = generate(net, start, gen_length, temperature, sequence_len)\n",
    "display(gen_text)"
   ]
  },
  {
   "cell_type": "markdown",
   "metadata": {},
   "source": [
    "##### text2"
   ]
  },
  {
   "cell_type": "code",
   "execution_count": 87,
   "metadata": {},
   "outputs": [],
   "source": [
    "start = ord('b')      #start character of generated text                \n",
    "gen_length = 100       # number of characters to generate\n",
    "temperature = 1       # temperature to bias the predictions to most probable or to uniformly predict every char \n",
    "sequence_len = 50"
   ]
  },
  {
   "cell_type": "code",
   "execution_count": 88,
   "metadata": {},
   "outputs": [
    {
     "name": "stdout",
     "output_type": "stream",
     "text": [
      "Generated text of length = 100, temperature = 1, start letter = 98\n",
      "\n",
      "\n",
      "Generating text of length 100\n",
      "Generated text: \n",
      "berg-tm eBooks any the Project Gutenberg to to te ton eroject Gutenberg to to te ton eroject Gutenbe\n",
      "\n",
      "done!\n"
     ]
    }
   ],
   "source": [
    "\n",
    "print ('Generated text of length = %d, temperature = %d, start letter = %d\\n'\\\n",
    "        %(gen_length, temperature, start)\n",
    "      )\n",
    "gen_text = generate(net, start, gen_length, temperature, sequence_len)\n",
    "display(gen_text)"
   ]
  },
  {
   "cell_type": "markdown",
   "metadata": {},
   "source": [
    "##### text3"
   ]
  },
  {
   "cell_type": "code",
   "execution_count": 89,
   "metadata": {},
   "outputs": [],
   "source": [
    "start = ord('h')      #start character of generated text                \n",
    "gen_length = 100       # number of characters to generate\n",
    "temperature = 1       # temperature to bias the predictions to most probable or to uniformly predict every char \n",
    "sequence_len = 50"
   ]
  },
  {
   "cell_type": "code",
   "execution_count": 90,
   "metadata": {},
   "outputs": [
    {
     "name": "stdout",
     "output_type": "stream",
     "text": [
      "Generated text of length = 100, temperature = 1, start letter = 104\n",
      "\n",
      "\n",
      "Generating text of length 100\n",
      "Generated text: \n",
      "hich the Project Gutenberg to to te ton eroject Gutenberg to to te ton eroject Gutenberg to to te to\n",
      "\n",
      "done!\n"
     ]
    }
   ],
   "source": [
    "\n",
    "print ('Generated text of length = %d, temperature = %d, start letter = %d\\n'\\\n",
    "        %(gen_length, temperature, start)\n",
    "      )\n",
    "gen_text = generate(net, start, gen_length, temperature, sequence_len)\n",
    "display(gen_text)"
   ]
  },
  {
   "cell_type": "markdown",
   "metadata": {},
   "source": [
    "##### text4"
   ]
  },
  {
   "cell_type": "code",
   "execution_count": 91,
   "metadata": {},
   "outputs": [],
   "source": [
    "start = ord('i')      #start character of generated text                \n",
    "gen_length = 100       # number of characters to generate\n",
    "temperature = 1       # temperature to bias the predictions to most probable or to uniformly predict every char \n",
    "sequence_len = 50"
   ]
  },
  {
   "cell_type": "code",
   "execution_count": 92,
   "metadata": {},
   "outputs": [
    {
     "name": "stdout",
     "output_type": "stream",
     "text": [
      "Generated text of length = 100, temperature = 1, start letter = 105\n",
      "\n",
      "\n",
      "Generating text of length 100\n",
      "Generated text: \n",
      "it to to te to te to tepporm terore to hears that to to te to te to tepporm terore to hears that to \n",
      "\n",
      "done!\n"
     ]
    }
   ],
   "source": [
    "\n",
    "print ('Generated text of length = %d, temperature = %d, start letter = %d\\n'\\\n",
    "        %(gen_length, temperature, start)\n",
    "      )\n",
    "gen_text = generate(net, start, gen_length, temperature, sequence_len)\n",
    "display(gen_text)"
   ]
  },
  {
   "cell_type": "markdown",
   "metadata": {},
   "source": [
    "##### text5"
   ]
  },
  {
   "cell_type": "code",
   "execution_count": 93,
   "metadata": {},
   "outputs": [],
   "source": [
    "start = ord('n')      #start character of generated text                \n",
    "gen_length = 100       # number of characters to generate\n",
    "temperature = 1       # temperature to bias the predictions to most probable or to uniformly predict every char \n",
    "sequence_len = 50"
   ]
  },
  {
   "cell_type": "code",
   "execution_count": 94,
   "metadata": {},
   "outputs": [
    {
     "name": "stdout",
     "output_type": "stream",
     "text": [
      "Generated text of length = 100, temperature = 1, start letter = 110\n",
      "\n",
      "\n",
      "Generating text of length 100\n",
      "Generated text: \n",
      "nteraring to to te to te to tepporm terore to hears that to to te to te to tepporm terore to hears t\n",
      "\n",
      "done!\n"
     ]
    }
   ],
   "source": [
    "\n",
    "print ('Generated text of length = %d, temperature = %d, start letter = %d\\n'\\\n",
    "        %(gen_length, temperature, start)\n",
    "      )\n",
    "gen_text = generate(net, start, gen_length, temperature, sequence_len)\n",
    "display(gen_text)"
   ]
  },
  {
   "cell_type": "markdown",
   "metadata": {},
   "source": [
    "#### Temp2"
   ]
  },
  {
   "cell_type": "markdown",
   "metadata": {},
   "source": [
    "##### text1"
   ]
  },
  {
   "cell_type": "code",
   "execution_count": 95,
   "metadata": {},
   "outputs": [],
   "source": [
    "start = ord('v')      #start character of generated text                \n",
    "gen_length = 100       # number of characters to generate\n",
    "temperature = 10       # temperature to bias the predictions to most probable or to uniformly predict every char \n",
    "sequence_len = 50"
   ]
  },
  {
   "cell_type": "code",
   "execution_count": 96,
   "metadata": {},
   "outputs": [
    {
     "name": "stdout",
     "output_type": "stream",
     "text": [
      "Generated text of length = 100, temperature = 10, start letter = 118\n",
      "\n",
      "\n",
      "Generating text of length 100\n",
      "Generated text: \n",
      "ve to to te ton eroject Gutenberg to to te ton eroject Gutenberg to to te ton eroject Gutenberg to t\n",
      "\n",
      "done!\n"
     ]
    }
   ],
   "source": [
    "\n",
    "print ('Generated text of length = %d, temperature = %d, start letter = %d\\n'\\\n",
    "        %(gen_length, temperature, start)\n",
    "      )\n",
    "gen_text = generate(net, start, gen_length, temperature, sequence_len)\n",
    "display(gen_text)"
   ]
  },
  {
   "cell_type": "markdown",
   "metadata": {},
   "source": [
    "##### text2"
   ]
  },
  {
   "cell_type": "code",
   "execution_count": 97,
   "metadata": {},
   "outputs": [],
   "source": [
    "start = ord('r')      #start character of generated text                \n",
    "gen_length = 100       # number of characters to generate\n",
    "temperature = 10       # temperature to bias the predictions to most probable or to uniformly predict every char \n",
    "sequence_len = 50"
   ]
  },
  {
   "cell_type": "code",
   "execution_count": 98,
   "metadata": {},
   "outputs": [
    {
     "name": "stdout",
     "output_type": "stream",
     "text": [
      "Generated text of length = 100, temperature = 10, start letter = 114\n",
      "\n",
      "\n",
      "Generating text of length 100\n",
      "Generated text: \n",
      "rgate to tee to to te to tepporm terore to hears that to to te to te to tepporm terore to hears that\n",
      "\n",
      "done!\n"
     ]
    }
   ],
   "source": [
    "\n",
    "print ('Generated text of length = %d, temperature = %d, start letter = %d\\n'\\\n",
    "        %(gen_length, temperature, start)\n",
    "      )\n",
    "gen_text = generate(net, start, gen_length, temperature, sequence_len)\n",
    "display(gen_text)"
   ]
  },
  {
   "cell_type": "markdown",
   "metadata": {},
   "source": [
    "##### text3"
   ]
  },
  {
   "cell_type": "code",
   "execution_count": 99,
   "metadata": {},
   "outputs": [],
   "source": [
    "start = ord('u')      #start character of generated text                \n",
    "gen_length = 100       # number of characters to generate\n",
    "temperature = 10       # temperature to bias the predictions to most probable or to uniformly predict every char \n",
    "sequence_len = 50"
   ]
  },
  {
   "cell_type": "code",
   "execution_count": 100,
   "metadata": {},
   "outputs": [
    {
     "name": "stdout",
     "output_type": "stream",
     "text": [
      "Generated text of length = 100, temperature = 10, start letter = 117\n",
      "\n",
      "\n",
      "Generating text of length 100\n",
      "Generated text: \n",
      "ute to te to te to tepporm terore to hears that to to te to te to tepporm terore to hears that to to\n",
      "\n",
      "done!\n"
     ]
    }
   ],
   "source": [
    "\n",
    "print ('Generated text of length = %d, temperature = %d, start letter = %d\\n'\\\n",
    "        %(gen_length, temperature, start)\n",
    "      )\n",
    "gen_text = generate(net, start, gen_length, temperature, sequence_len)\n",
    "display(gen_text)"
   ]
  },
  {
   "cell_type": "markdown",
   "metadata": {},
   "source": [
    "##### text4"
   ]
  },
  {
   "cell_type": "code",
   "execution_count": 101,
   "metadata": {},
   "outputs": [],
   "source": [
    "start = ord('t')      #start character of generated text                \n",
    "gen_length = 100       # number of characters to generate\n",
    "temperature = 10       # temperature to bias the predictions to most probable or to uniformly predict every char \n",
    "sequence_len = 50"
   ]
  },
  {
   "cell_type": "code",
   "execution_count": 102,
   "metadata": {},
   "outputs": [
    {
     "name": "stdout",
     "output_type": "stream",
     "text": [
      "Generated text of length = 100, temperature = 10, start letter = 116\n",
      "\n",
      "\n",
      "Generating text of length 100\n",
      "Generated text: \n",
      "ter to tee to to te to tepporm terore to hears that to to te to te to tepporm terore to hears that t\n",
      "\n",
      "done!\n"
     ]
    }
   ],
   "source": [
    "\n",
    "print ('Generated text of length = %d, temperature = %d, start letter = %d\\n'\\\n",
    "        %(gen_length, temperature, start)\n",
    "      )\n",
    "gen_text = generate(net, start, gen_length, temperature, sequence_len)\n",
    "display(gen_text)"
   ]
  },
  {
   "cell_type": "markdown",
   "metadata": {},
   "source": [
    "##### text5"
   ]
  },
  {
   "cell_type": "code",
   "execution_count": 103,
   "metadata": {},
   "outputs": [],
   "source": [
    "start = ord('q')      #start character of generated text                \n",
    "gen_length = 100       # number of characters to generate\n",
    "temperature = 10       # temperature to bias the predictions to most probable or to uniformly predict every char \n",
    "sequence_len = 50"
   ]
  },
  {
   "cell_type": "code",
   "execution_count": 104,
   "metadata": {},
   "outputs": [
    {
     "name": "stdout",
     "output_type": "stream",
     "text": [
      "Generated text of length = 100, temperature = 10, start letter = 113\n",
      "\n",
      "\n",
      "Generating text of length 100\n",
      "Generated text: \n",
      "qutenberg-tm eBork to to te to te to tepporm terore to hears that to to te to te to tepporm terore t\n",
      "\n",
      "done!\n"
     ]
    }
   ],
   "source": [
    "\n",
    "print ('Generated text of length = %d, temperature = %d, start letter = %d\\n'\\\n",
    "        %(gen_length, temperature, start)\n",
    "      )\n",
    "gen_text = generate(net, start, gen_length, temperature, sequence_len)\n",
    "display(gen_text)"
   ]
  },
  {
   "cell_type": "markdown",
   "metadata": {},
   "source": [
    "#### Temp3"
   ]
  },
  {
   "cell_type": "markdown",
   "metadata": {},
   "source": [
    "##### text1"
   ]
  },
  {
   "cell_type": "code",
   "execution_count": 105,
   "metadata": {},
   "outputs": [],
   "source": [
    "start = ord('f')      #start character of generated text                \n",
    "gen_length = 100       # number of characters to generate\n",
    "temperature = 100       # temperature to bias the predictions to most probable or to uniformly predict every char \n",
    "sequence_len = 50"
   ]
  },
  {
   "cell_type": "code",
   "execution_count": 106,
   "metadata": {},
   "outputs": [
    {
     "name": "stdout",
     "output_type": "stream",
     "text": [
      "Generated text of length = 100, temperature = 100, start letter = 102\n",
      "\n",
      "\n",
      "Generating text of length 100\n",
      "Generated text: \n",
      "form the Prom enorusion to to te to teppor to to te to tepporm to te to te to tepporm terore to hear\n",
      "\n",
      "done!\n"
     ]
    }
   ],
   "source": [
    "\n",
    "print ('Generated text of length = %d, temperature = %d, start letter = %d\\n'\\\n",
    "        %(gen_length, temperature, start)\n",
    "      )\n",
    "gen_text = generate(net, start, gen_length, temperature, sequence_len)\n",
    "display(gen_text)"
   ]
  },
  {
   "cell_type": "markdown",
   "metadata": {},
   "source": [
    "##### text2"
   ]
  },
  {
   "cell_type": "code",
   "execution_count": 107,
   "metadata": {},
   "outputs": [],
   "source": [
    "start = ord('p')      #start character of generated text                \n",
    "gen_length = 100       # number of characters to generate\n",
    "temperature = 100       # temperature to bias the predictions to most probable or to uniformly predict every char \n",
    "sequence_len = 50"
   ]
  },
  {
   "cell_type": "code",
   "execution_count": 108,
   "metadata": {},
   "outputs": [
    {
     "name": "stdout",
     "output_type": "stream",
     "text": [
      "Generated text of length = 100, temperature = 100, start letter = 112\n",
      "\n",
      "\n",
      "Generating text of length 100\n",
      "Generated text: \n",
      "parrest the Project Gutenberg to to te ton eroject Gutenberg to to te ton eroject Gutenberg to to te\n",
      "\n",
      "done!\n"
     ]
    }
   ],
   "source": [
    "\n",
    "print ('Generated text of length = %d, temperature = %d, start letter = %d\\n'\\\n",
    "        %(gen_length, temperature, start)\n",
    "      )\n",
    "gen_text = generate(net, start, gen_length, temperature, sequence_len)\n",
    "display(gen_text)"
   ]
  },
  {
   "cell_type": "markdown",
   "metadata": {},
   "source": [
    "##### text3"
   ]
  },
  {
   "cell_type": "code",
   "execution_count": 109,
   "metadata": {},
   "outputs": [],
   "source": [
    "start = ord('x')      #start character of generated text                \n",
    "gen_length = 100       # number of characters to generate\n",
    "temperature = 100       # temperature to bias the predictions to most probable or to uniformly predict every char \n",
    "sequence_len = 50"
   ]
  },
  {
   "cell_type": "code",
   "execution_count": 110,
   "metadata": {},
   "outputs": [
    {
     "name": "stdout",
     "output_type": "stream",
     "text": [
      "Generated text of length = 100, temperature = 100, start letter = 120\n",
      "\n",
      "\n",
      "Generating text of length 100\n",
      "Generated text: \n",
      "xat to to te to te to tepporm terore to hears that to to te to te to tepporm terore to hears that to\n",
      "\n",
      "done!\n"
     ]
    }
   ],
   "source": [
    "\n",
    "print ('Generated text of length = %d, temperature = %d, start letter = %d\\n'\\\n",
    "        %(gen_length, temperature, start)\n",
    "      )\n",
    "gen_text = generate(net, start, gen_length, temperature, sequence_len)\n",
    "display(gen_text)"
   ]
  },
  {
   "cell_type": "markdown",
   "metadata": {},
   "source": [
    "##### text4"
   ]
  },
  {
   "cell_type": "code",
   "execution_count": 111,
   "metadata": {},
   "outputs": [],
   "source": [
    "start = ord('y')      #start character of generated text                \n",
    "gen_length = 100       # number of characters to generate\n",
    "temperature = 100       # temperature to bias the predictions to most probable or to uniformly predict every char \n",
    "sequence_len = 50"
   ]
  },
  {
   "cell_type": "code",
   "execution_count": 112,
   "metadata": {},
   "outputs": [
    {
     "name": "stdout",
     "output_type": "stream",
     "text": [
      "Generated text of length = 100, temperature = 100, start letter = 121\n",
      "\n",
      "\n",
      "Generating text of length 100\n",
      "Generated text: \n",
      "y the Project Gutenberg to to te ton eroject Gutenberg to to te ton eroject Gutenberg to to te ton e\n",
      "\n",
      "done!\n"
     ]
    }
   ],
   "source": [
    "\n",
    "print ('Generated text of length = %d, temperature = %d, start letter = %d\\n'\\\n",
    "        %(gen_length, temperature, start)\n",
    "      )\n",
    "gen_text = generate(net, start, gen_length, temperature, sequence_len)\n",
    "display(gen_text)"
   ]
  },
  {
   "cell_type": "markdown",
   "metadata": {},
   "source": [
    "##### text5"
   ]
  },
  {
   "cell_type": "code",
   "execution_count": 113,
   "metadata": {},
   "outputs": [],
   "source": [
    "start = ord('z')      #start character of generated text                \n",
    "gen_length = 100       # number of characters to generate\n",
    "temperature = 100       # temperature to bias the predictions to most probable or to uniformly predict every char \n",
    "sequence_len = 50"
   ]
  },
  {
   "cell_type": "code",
   "execution_count": 114,
   "metadata": {},
   "outputs": [
    {
     "name": "stdout",
     "output_type": "stream",
     "text": [
      "Generated text of length = 100, temperature = 100, start letter = 122\n",
      "\n",
      "\n",
      "Generating text of length 100\n",
      "Generated text: \n",
      "zat to to te ton eroject Gutenberg to to te ton eroject Gutenberg to to te ton eroject Gutenberg to \n",
      "\n",
      "done!\n"
     ]
    }
   ],
   "source": [
    "\n",
    "print ('Generated text of length = %d, temperature = %d, start letter = %d\\n'\\\n",
    "        %(gen_length, temperature, start)\n",
    "      )\n",
    "gen_text = generate(net, start, gen_length, temperature, sequence_len)\n",
    "display(gen_text)"
   ]
  },
  {
   "cell_type": "markdown",
   "metadata": {},
   "source": [
    "## Report"
   ]
  },
  {
   "cell_type": "raw",
   "metadata": {},
   "source": [
    "As the temperaure is increased we expect to see more randomness in the text produced as the probability of a character choosed becomes more uniform, compared to lower temperatures where only the most probable character is chosen.\n",
    "\n",
    "Higher temperatures thereby increase the diversity of the results\n",
    "\n",
    "Similar trends were observed and the network seemed to explore rather than predict the most probable letters."
   ]
  },
  {
   "cell_type": "markdown",
   "metadata": {},
   "source": [
    "## 2c"
   ]
  },
  {
   "cell_type": "markdown",
   "metadata": {},
   "source": [
    "### i)"
   ]
  },
  {
   "cell_type": "markdown",
   "metadata": {},
   "source": [
    "\n",
    "\n",
    "### Doubling hidden layer size"
   ]
  },
  {
   "cell_type": "code",
   "execution_count": 115,
   "metadata": {},
   "outputs": [],
   "source": [
    "net2 = RNN(hidden_size*2)"
   ]
  },
  {
   "cell_type": "code",
   "execution_count": 116,
   "metadata": {},
   "outputs": [],
   "source": [
    "start = ord('l')      #start character of generated text                \n",
    "gen_length = 100       # number of characters to generate\n",
    "temperature = 1       # temperature to bias the predictions to most probable or to uniformly predict every char \n",
    "sequence_len = 50"
   ]
  },
  {
   "cell_type": "code",
   "execution_count": 117,
   "metadata": {},
   "outputs": [
    {
     "name": "stdout",
     "output_type": "stream",
     "text": [
      "There are 98 unique characters\n",
      "\n",
      "Training with\n",
      "hidden_size = 100, learning_rate = 0.010000, sequence_len = 50, num_epochs = 24\n",
      "\n",
      "2018-04-27 07:07:02\n",
      "\tepoch #4: \tloss = 3.120729\n",
      "Generated text for epoch 4\n",
      "\n",
      "Generating text of length 100\n",
      "Generated text: \n",
      "Tho ore tor exoor teout to searort to texss texs arout nowst of\n",
      "arout tonted to he ore wonted to he \n",
      "\n",
      "done!\n",
      "2018-04-27 07:13:41\n",
      "\tepoch #8: \tloss = 2.798043\n",
      "Generated text for epoch 8\n",
      "\n",
      "Generating text of length 100\n",
      "Generated text: \n",
      "The stark tone. terolect Gurected to suar and sor to\n",
      "hroject Gutenberg Lew to to\n",
      "Seat eBont in looke\n",
      "\n",
      "done!\n",
      "2018-04-27 07:20:46\n",
      "\tepoch #12: \tloss = 2.816450\n",
      "Generated text for epoch 12\n",
      "\n",
      "Generating text of length 100\n",
      "Generated text: \n",
      "The Project Gutenberg-tm efook to\n",
      "\n",
      "Put now arcorrite to the Uroject Gutenberg-tm sut to\n",
      "essorg/em to\n",
      "\n",
      "done!\n",
      "2018-04-27 07:27:34\n",
      "\tepoch #16: \tloss = 2.841540\n",
      "Generated text for epoch 16\n",
      "\n",
      "Generating text of length 100\n",
      "Generated text: \n",
      "The tons and pon and emoor hecher to hearly with heluse to stare to her acrout the Pute berite teatl\n",
      "\n",
      "done!\n",
      "2018-04-27 07:34:14\n",
      "\tepoch #20: \tloss = 2.731077\n",
      "Generated text for epoch 20\n",
      "\n",
      "Generating text of length 100\n",
      "Generated text: \n",
      "The Uour about to rut nat so in the Project Gutenberg-tm eBenter to her not corter to heq sor unolut\n",
      "\n",
      "done!\n",
      "2018-04-27 07:40:58\n",
      "\tepoch #24: \tloss = 2.725001\n",
      "Generated text for epoch 24\n",
      "\n",
      "Generating text of length 100\n",
      "Generated text: \n",
      "The Unot and to come Four about erooks to hewsute to texe at the Project Gorite the Project Gutenber\n",
      "\n",
      "done!\n"
     ]
    },
    {
     "data": {
      "image/png": "[encoded data removed]",
      "text/plain": [
       "<matplotlib.figure.Figure at 0x7f1a06800190>"
      ]
     },
     "metadata": {},
     "output_type": "display_data"
    }
   ],
   "source": [
    "x = read_file(filename)\n",
    "\n",
    "print 'Training with'\n",
    "print ('hidden_size = %d, learning_rate = %f, sequence_len = %d, num_epochs = %d\\n' \\\n",
    "%(hidden_size, learning_rate, sequence_len, num_epochs))\n",
    "\n",
    "\n",
    "train(net2, x, learning_rate, sequence_len, num_epochs, print_freq, breakpoint = True)\n",
    "\n"
   ]
  },
  {
   "cell_type": "code",
   "execution_count": 118,
   "metadata": {},
   "outputs": [
    {
     "name": "stdout",
     "output_type": "stream",
     "text": [
      "\n",
      "Generating text of length 100\n",
      "Generated text: \n",
      "licutent rew the Prosecee sal to hear that eows to hear about erooks to searlate of the tort in luw \n",
      "\n",
      "done!\n"
     ]
    }
   ],
   "source": [
    "gen_text = generate(net2, start, gen_length, temperature, sequence_len)\n",
    "display(gen_text)"
   ]
  },
  {
   "cell_type": "markdown",
   "metadata": {},
   "source": [
    "#### Temp1"
   ]
  },
  {
   "cell_type": "markdown",
   "metadata": {},
   "source": [
    "##### text1"
   ]
  },
  {
   "cell_type": "code",
   "execution_count": 119,
   "metadata": {},
   "outputs": [],
   "source": [
    "start = ord('l')      #start character of generated text                \n",
    "gen_length = 100       # number of characters to generate\n",
    "temperature = 1       # temperature to bias the predictions to most probable or to uniformly predict every char \n",
    "sequence_len = 50"
   ]
  },
  {
   "cell_type": "code",
   "execution_count": 120,
   "metadata": {},
   "outputs": [
    {
     "name": "stdout",
     "output_type": "stream",
     "text": [
      "Generated text of length = 100, temperature = 1, start letter = 108\n",
      "\n",
      "\n",
      "Generating text of length 100\n",
      "Generated text: \n",
      "licutent rew the Prosecee sal to hear that eows to hear about erooks to searlate of the tort in luw \n",
      "\n",
      "done!\n"
     ]
    }
   ],
   "source": [
    "\n",
    "print ('Generated text of length = %d, temperature = %d, start letter = %d\\n'\\\n",
    "        %(gen_length, temperature, start)\n",
    "      )\n",
    "gen_text = generate(net2, start, gen_length, temperature, sequence_len)\n",
    "display(gen_text)"
   ]
  },
  {
   "cell_type": "markdown",
   "metadata": {},
   "source": [
    "#### Temp2"
   ]
  },
  {
   "cell_type": "markdown",
   "metadata": {},
   "source": [
    "##### text1"
   ]
  },
  {
   "cell_type": "code",
   "execution_count": 121,
   "metadata": {},
   "outputs": [],
   "source": [
    "start = ord('a')      #start character of generated text                \n",
    "gen_length = 100       # number of characters to generate\n",
    "temperature = 10       # temperature to bias the predictions to most probable or to uniformly predict every char \n",
    "sequence_len = 50"
   ]
  },
  {
   "cell_type": "code",
   "execution_count": 122,
   "metadata": {},
   "outputs": [
    {
     "name": "stdout",
     "output_type": "stream",
     "text": [
      "Generated text of length = 100, temperature = 10, start letter = 97\n",
      "\n",
      "\n",
      "Generating text of length 100\n",
      "Generated text: \n",
      "at sew to suar arout eroject Gutenberg-tm eBooks to cews erout eew the Projecreture wew the to the P\n",
      "\n",
      "done!\n"
     ]
    }
   ],
   "source": [
    "\n",
    "print ('Generated text of length = %d, temperature = %d, start letter = %d\\n'\\\n",
    "        %(gen_length, temperature, start)\n",
    "      )\n",
    "gen_text = generate(net2, start, gen_length, temperature, sequence_len)\n",
    "display(gen_text)"
   ]
  },
  {
   "cell_type": "markdown",
   "metadata": {},
   "source": [
    "#### Temp3"
   ]
  },
  {
   "cell_type": "markdown",
   "metadata": {},
   "source": [
    "##### text1"
   ]
  },
  {
   "cell_type": "code",
   "execution_count": 123,
   "metadata": {},
   "outputs": [],
   "source": [
    "start = ord('p')      #start character of generated text                \n",
    "gen_length = 100       # number of characters to generate\n",
    "temperature = 100       # temperature to bias the predictions to most probable or to uniformly predict every char \n",
    "sequence_len = 50"
   ]
  },
  {
   "cell_type": "code",
   "execution_count": 124,
   "metadata": {},
   "outputs": [
    {
     "name": "stdout",
     "output_type": "stream",
     "text": [
      "Generated text of length = 100, temperature = 100, start letter = 112\n",
      "\n",
      "\n",
      "Generating text of length 100\n",
      "Generated text: \n",
      "plitere tor tenect Gutenberg-tm teare of hear and per texe sote and that enwite to heary to the Proj\n",
      "\n",
      "done!\n"
     ]
    }
   ],
   "source": [
    "\n",
    "print ('Generated text of length = %d, temperature = %d, start letter = %d\\n'\\\n",
    "        %(gen_length, temperature, start)\n",
    "      )\n",
    "gen_text = generate(net2, start, gen_length, temperature, sequence_len)\n",
    "display(gen_text)"
   ]
  },
  {
   "cell_type": "code",
   "execution_count": null,
   "metadata": {},
   "outputs": [],
   "source": []
  },
  {
   "cell_type": "markdown",
   "metadata": {},
   "source": [
    "### Halving hidden layer size"
   ]
  },
  {
   "cell_type": "code",
   "execution_count": 125,
   "metadata": {},
   "outputs": [],
   "source": [
    "net5 = RNN(hidden_size/2)"
   ]
  },
  {
   "cell_type": "code",
   "execution_count": 126,
   "metadata": {},
   "outputs": [],
   "source": [
    "start = ord('l')      #start character of generated text                \n",
    "gen_length = 100       # number of characters to generate\n",
    "temperature = 1       # temperature to bias the predictions to most probable or to uniformly predict every char \n",
    "sequence_len = 50"
   ]
  },
  {
   "cell_type": "code",
   "execution_count": 127,
   "metadata": {},
   "outputs": [
    {
     "name": "stdout",
     "output_type": "stream",
     "text": [
      "There are 98 unique characters\n",
      "\n",
      "Training with\n",
      "hidden_size = 100, learning_rate = 0.010000, sequence_len = 50, num_epochs = 24\n",
      "\n",
      "2018-04-27 07:43:20\n",
      "\tepoch #4: \tloss = 2.710861\n",
      "Generated text for epoch 4\n",
      "\n",
      "Generating text of length 100\n",
      "Generated text: \n",
      "That or to to to to to to to to to to to to to to to to to to to to to to to to to to to to to to to\n",
      "\n",
      "done!\n",
      "2018-04-27 07:45:53\n",
      "\tepoch #8: \tloss = 2.448008\n",
      "Generated text for epoch 8\n",
      "\n",
      "Generating text of length 100\n",
      "Generated text: \n",
      "The Project Gutenberg-tm to to to to to to to to to to to to to to to to to to to to to to to to to \n",
      "\n",
      "done!\n",
      "2018-04-27 07:48:20\n",
      "\tepoch #12: \tloss = 2.412812\n",
      "Generated text for epoch 12\n",
      "\n",
      "Generating text of length 100\n",
      "Generated text: \n",
      "The Project Gutenberg-tm to to to to to to to to to to to to to to to to to to to to to to to to to \n",
      "\n",
      "done!\n",
      "2018-04-27 07:50:38\n",
      "\tepoch #16: \tloss = 2.393405\n",
      "Generated text for epoch 16\n",
      "\n",
      "Generating text of length 100\n",
      "Generated text: \n",
      "Th explice to to to to to to to to to to to to to to to to to to to to to to to to to to to to to to\n",
      "\n",
      "done!\n",
      "2018-04-27 07:52:57\n",
      "\tepoch #20: \tloss = 2.364395\n",
      "Generated text for epoch 20\n",
      "\n",
      "Generating text of length 100\n",
      "Generated text: \n",
      "The Project Gutenberg-tm to to to to to to to to to to to to to to to to to to to to to to to to to \n",
      "\n",
      "done!\n",
      "2018-04-27 07:55:15\n",
      "\tepoch #24: \tloss = 2.413347\n",
      "Generated text for epoch 24\n",
      "\n",
      "Generating text of length 100\n",
      "Generated text: \n",
      "Th of to to to to to to to to to to to to to to to to to to to to to to to to to to to to to to to t\n",
      "\n",
      "done!\n"
     ]
    },
    {
     "data": {
      "image/png": "[encoded data removed]",
      "text/plain": [
       "<matplotlib.figure.Figure at 0x7f1a066fd390>"
      ]
     },
     "metadata": {},
     "output_type": "display_data"
    }
   ],
   "source": [
    "x = read_file(filename)\n",
    "\n",
    "print 'Training with'\n",
    "print ('hidden_size = %d, learning_rate = %f, sequence_len = %d, num_epochs = %d\\n' \\\n",
    "%(hidden_size, learning_rate, sequence_len, num_epochs))\n",
    "\n",
    "\n",
    "train(net5, x, learning_rate, sequence_len, num_epochs, print_freq, breakpoint = True)\n",
    "\n"
   ]
  },
  {
   "cell_type": "code",
   "execution_count": 128,
   "metadata": {},
   "outputs": [
    {
     "name": "stdout",
     "output_type": "stream",
     "text": [
      "\n",
      "Generating text of length 100\n",
      "Generated text: \n",
      "lubed to to to to to to to to to to to to to to to to to to to to to to to to to to to to to to to t\n",
      "\n",
      "done!\n"
     ]
    }
   ],
   "source": [
    "gen_text = generate(net5, start, gen_length, temperature, sequence_len)\n",
    "display(gen_text)"
   ]
  },
  {
   "cell_type": "markdown",
   "metadata": {},
   "source": [
    "#### Temp1"
   ]
  },
  {
   "cell_type": "markdown",
   "metadata": {},
   "source": [
    "##### text1"
   ]
  },
  {
   "cell_type": "code",
   "execution_count": 129,
   "metadata": {},
   "outputs": [],
   "source": [
    "start = ord('l')      #start character of generated text                \n",
    "gen_length = 100       # number of characters to generate\n",
    "temperature = 1       # temperature to bias the predictions to most probable or to uniformly predict every char \n",
    "sequence_len = 50"
   ]
  },
  {
   "cell_type": "code",
   "execution_count": 130,
   "metadata": {},
   "outputs": [
    {
     "name": "stdout",
     "output_type": "stream",
     "text": [
      "Generated text of length = 100, temperature = 1, start letter = 108\n",
      "\n",
      "\n",
      "Generating text of length 100\n",
      "Generated text: \n",
      "lubed to to to to to to to to to to to to to to to to to to to to to to to to to to to to to to to t\n",
      "\n",
      "done!\n"
     ]
    }
   ],
   "source": [
    "\n",
    "print ('Generated text of length = %d, temperature = %d, start letter = %d\\n'\\\n",
    "        %(gen_length, temperature, start)\n",
    "      )\n",
    "gen_text = generate(net5, start, gen_length, temperature, sequence_len)\n",
    "display(gen_text)"
   ]
  },
  {
   "cell_type": "markdown",
   "metadata": {},
   "source": [
    "#### Temp2"
   ]
  },
  {
   "cell_type": "markdown",
   "metadata": {},
   "source": [
    "##### text1"
   ]
  },
  {
   "cell_type": "code",
   "execution_count": 131,
   "metadata": {},
   "outputs": [],
   "source": [
    "start = ord('a')      #start character of generated text                \n",
    "gen_length = 100       # number of characters to generate\n",
    "temperature = 10       # temperature to bias the predictions to most probable or to uniformly predict every char \n",
    "sequence_len = 50"
   ]
  },
  {
   "cell_type": "code",
   "execution_count": 132,
   "metadata": {},
   "outputs": [
    {
     "name": "stdout",
     "output_type": "stream",
     "text": [
      "Generated text of length = 100, temperature = 10, start letter = 97\n",
      "\n",
      "\n",
      "Generating text of length 100\n",
      "Generated text: \n",
      "ark of the Project Gutenberg-tm to to to to to to to to to to to to to to to to to to to to to to to\n",
      "\n",
      "done!\n"
     ]
    }
   ],
   "source": [
    "\n",
    "print ('Generated text of length = %d, temperature = %d, start letter = %d\\n'\\\n",
    "        %(gen_length, temperature, start)\n",
    "      )\n",
    "gen_text = generate(net5, start, gen_length, temperature, sequence_len)\n",
    "display(gen_text)"
   ]
  },
  {
   "cell_type": "markdown",
   "metadata": {},
   "source": [
    "#### Temp3"
   ]
  },
  {
   "cell_type": "markdown",
   "metadata": {},
   "source": [
    "##### text1"
   ]
  },
  {
   "cell_type": "code",
   "execution_count": 133,
   "metadata": {},
   "outputs": [],
   "source": [
    "start = ord('p')      #start character of generated text                \n",
    "gen_length = 100       # number of characters to generate\n",
    "temperature = 100       # temperature to bias the predictions to most probable or to uniformly predict every char \n",
    "sequence_len = 50"
   ]
  },
  {
   "cell_type": "code",
   "execution_count": 134,
   "metadata": {},
   "outputs": [
    {
     "name": "stdout",
     "output_type": "stream",
     "text": [
      "Generated text of length = 100, temperature = 100, start letter = 112\n",
      "\n",
      "\n",
      "Generating text of length 100\n",
      "Generated text: \n",
      "part. Te hour to to to to to to to to to to to to to to to to to to to to to to to to to to to to to\n",
      "\n",
      "done!\n"
     ]
    }
   ],
   "source": [
    "\n",
    "print ('Generated text of length = %d, temperature = %d, start letter = %d\\n'\\\n",
    "        %(gen_length, temperature, start)\n",
    "      )\n",
    "gen_text = generate(net5, start, gen_length, temperature, sequence_len)\n",
    "display(gen_text)"
   ]
  },
  {
   "cell_type": "markdown",
   "metadata": {},
   "source": [
    "## Observations"
   ]
  },
  {
   "cell_type": "raw",
   "metadata": {},
   "source": [
    "The network learns a richer vocabulary upon increasing the hidden layer size, as now it can learn more richer dependencies from the sequence length of previous characters.\n",
    "\n",
    "The network performs worse upon halving the hidden layer size, maybe because it was not able to learn the dependancies because of less training data."
   ]
  },
  {
   "cell_type": "markdown",
   "metadata": {},
   "source": [
    "### 2c ii)"
   ]
  },
  {
   "cell_type": "markdown",
   "metadata": {},
   "source": [
    "### Doubling sequence"
   ]
  },
  {
   "cell_type": "code",
   "execution_count": 135,
   "metadata": {},
   "outputs": [],
   "source": [
    "net22 = RNN(hidden_size)"
   ]
  },
  {
   "cell_type": "code",
   "execution_count": 136,
   "metadata": {},
   "outputs": [],
   "source": [
    "start = ord('l')      #start character of generated text                \n",
    "gen_length = 100       # number of characters to generate\n",
    "temperature = 1       # temperature to bias the predictions to most probable or to uniformly predict every char \n",
    "sequence_len = 50*2"
   ]
  },
  {
   "cell_type": "code",
   "execution_count": 137,
   "metadata": {},
   "outputs": [
    {
     "name": "stdout",
     "output_type": "stream",
     "text": [
      "There are 98 unique characters\n",
      "\n",
      "Training with\n",
      "hidden_size = 100, learning_rate = 0.010000, sequence_len = 100, num_epochs = 24\n",
      "\n",
      "2018-04-27 07:58:46\n",
      "\tepoch #4: \tloss = 2.778732\n",
      "Generated text for epoch 4\n",
      "\n",
      "Generating text of length 100\n",
      "Generated text: \n",
      "Thave of compling the Project Gutenberg-tm enformed wo haw  of the Project Gutenberg-tm enformed wo \n",
      "\n",
      "done!\n",
      "2018-04-27 08:02:18\n",
      "\tepoch #8: \tloss = 2.388101\n",
      "Generated text for epoch 8\n",
      "\n",
      "Generating text of length 100\n",
      "Generated text: \n",
      "Thout the Project Gutenberg-tm ed the Project Gutenberg-tm ed the Project Gutenberg-tm ed the Projec\n",
      "\n",
      "done!\n",
      "2018-04-27 08:05:48\n",
      "\tepoch #12: \tloss = 2.426654\n",
      "Generated text for epoch 12\n",
      "\n",
      "Generating text of length 100\n",
      "Generated text: \n",
      "Thow any part including donation and he Por copped the Project Gutenberg-tm and donation and he Por \n",
      "\n",
      "done!\n",
      "2018-04-27 08:09:18\n",
      "\tepoch #16: \tloss = 2.369538\n",
      "Generated text for epoch 16\n",
      "\n",
      "Generating text of length 100\n",
      "Generated text: \n",
      "Thowh or he Por the Project Gutenberg to not protect Gutenberg to the Project Gutenberg to not prote\n",
      "\n",
      "done!\n",
      "2018-04-27 08:12:53\n",
      "\tepoch #20: \tloss = 2.303068\n",
      "Generated text for epoch 20\n",
      "\n",
      "Generating text of length 100\n",
      "Generated text: \n",
      "Thows and his any of the Project Gutenberg Low to prodice of the Project Gutenberg Low to prodice of\n",
      "\n",
      "done!\n",
      "2018-04-27 08:16:23\n",
      "\tepoch #24: \tloss = 2.309710\n",
      "Generated text for epoch 24\n",
      "\n",
      "Generating text of length 100\n",
      "Generated text: \n",
      "The Project Gutenberg and donation archre so no rou copyright of the Project Gutenberg-tm archive Fo\n",
      "\n",
      "done!\n"
     ]
    },
    {
     "data": {
      "image/png": "[encoded data removed]",
      "text/plain": [
       "<matplotlib.figure.Figure at 0x7f1a06682c90>"
      ]
     },
     "metadata": {},
     "output_type": "display_data"
    }
   ],
   "source": [
    "x = read_file(filename)\n",
    "\n",
    "print 'Training with'\n",
    "print ('hidden_size = %d, learning_rate = %f, sequence_len = %d, num_epochs = %d\\n' \\\n",
    "%(hidden_size, learning_rate, sequence_len, num_epochs))\n",
    "\n",
    "\n",
    "train(net22, x, learning_rate, sequence_len, num_epochs, print_freq, breakpoint = True)\n",
    "\n"
   ]
  },
  {
   "cell_type": "code",
   "execution_count": 138,
   "metadata": {},
   "outputs": [
    {
     "name": "stdout",
     "output_type": "stream",
     "text": [
      "\n",
      "Generating text of length 100\n",
      "Generated text: \n",
      "ly any proarm to new to nent of the Project Gutenberg-tm archive Foundation the Project Gutenberg Li\n",
      "\n",
      "done!\n"
     ]
    }
   ],
   "source": [
    "gen_text = generate(net22, start, gen_length, temperature, sequence_len)\n",
    "display(gen_text)"
   ]
  },
  {
   "cell_type": "markdown",
   "metadata": {},
   "source": [
    "#### Temp1"
   ]
  },
  {
   "cell_type": "markdown",
   "metadata": {},
   "source": [
    "##### text1"
   ]
  },
  {
   "cell_type": "code",
   "execution_count": 139,
   "metadata": {},
   "outputs": [],
   "source": [
    "start = ord('r')      #start character of generated text                \n",
    "gen_length = 100       # number of characters to generate\n",
    "temperature = 1       # temperature to bias the predictions to most probable or to uniformly predict every char \n",
    "sequence_len = 50"
   ]
  },
  {
   "cell_type": "code",
   "execution_count": 140,
   "metadata": {},
   "outputs": [
    {
     "name": "stdout",
     "output_type": "stream",
     "text": [
      "Generated text of length = 100, temperature = 1, start letter = 114\n",
      "\n",
      "\n",
      "Generating text of length 100\n",
      "Generated text: \n",
      "rate to prote not colations are so the Project Gutenberg uncepprrat of the Project Gutenberg-tm arch\n",
      "\n",
      "done!\n"
     ]
    }
   ],
   "source": [
    "\n",
    "print ('Generated text of length = %d, temperature = %d, start letter = %d\\n'\\\n",
    "        %(gen_length, temperature, start)\n",
    "      )\n",
    "gen_text = generate(net22, start, gen_length, temperature, sequence_len)\n",
    "display(gen_text)"
   ]
  },
  {
   "cell_type": "markdown",
   "metadata": {},
   "source": [
    "#### Temp2"
   ]
  },
  {
   "cell_type": "markdown",
   "metadata": {},
   "source": [
    "##### text1"
   ]
  },
  {
   "cell_type": "code",
   "execution_count": 141,
   "metadata": {},
   "outputs": [],
   "source": [
    "start = ord('s')      #start character of generated text                \n",
    "gen_length = 100       # number of characters to generate\n",
    "temperature = 10       # temperature to bias the predictions to most probable or to uniformly predict every char \n",
    "sequence_len = 50"
   ]
  },
  {
   "cell_type": "code",
   "execution_count": 142,
   "metadata": {},
   "outputs": [
    {
     "name": "stdout",
     "output_type": "stream",
     "text": [
      "Generated text of length = 100, temperature = 10, start letter = 115\n",
      "\n",
      "\n",
      "Generating text of length 100\n",
      "Generated text: \n",
      "s cor the Project Gutenberg uncepprrance the Project Gutenberg and donation archre so no rou copyrig\n",
      "\n",
      "done!\n"
     ]
    }
   ],
   "source": [
    "\n",
    "print ('Generated text of length = %d, temperature = %d, start letter = %d\\n'\\\n",
    "        %(gen_length, temperature, start)\n",
    "      )\n",
    "gen_text = generate(net22, start, gen_length, temperature, sequence_len)\n",
    "display(gen_text)"
   ]
  },
  {
   "cell_type": "markdown",
   "metadata": {},
   "source": [
    "#### Temp3"
   ]
  },
  {
   "cell_type": "markdown",
   "metadata": {},
   "source": [
    "##### text1"
   ]
  },
  {
   "cell_type": "code",
   "execution_count": 143,
   "metadata": {},
   "outputs": [],
   "source": [
    "start = ord('t')      #start character of generated text                \n",
    "gen_length = 100       # number of characters to generate\n",
    "temperature = 100       # temperature to bias the predictions to most probable or to uniformly predict every char \n",
    "sequence_len = 50"
   ]
  },
  {
   "cell_type": "code",
   "execution_count": 144,
   "metadata": {},
   "outputs": [
    {
     "name": "stdout",
     "output_type": "stream",
     "text": [
      "Generated text of length = 100, temperature = 100, start letter = 116\n",
      "\n",
      "\n",
      "Generating text of length 100\n",
      "Generated text: \n",
      "to not promice or copyright not colect Gutenberg-tm aroject Gutenberg and donation archre so no rou \n",
      "\n",
      "done!\n"
     ]
    }
   ],
   "source": [
    "\n",
    "print ('Generated text of length = %d, temperature = %d, start letter = %d\\n'\\\n",
    "        %(gen_length, temperature, start)\n",
    "      )\n",
    "gen_text = generate(net22, start, gen_length, temperature, sequence_len)\n",
    "display(gen_text)"
   ]
  },
  {
   "cell_type": "markdown",
   "metadata": {},
   "source": [
    "### Halving sequence"
   ]
  },
  {
   "cell_type": "code",
   "execution_count": 145,
   "metadata": {},
   "outputs": [],
   "source": [
    "net25 = RNN(hidden_size)"
   ]
  },
  {
   "cell_type": "code",
   "execution_count": 146,
   "metadata": {},
   "outputs": [],
   "source": [
    "start = ord('l')      #start character of generated text                \n",
    "gen_length = 100       # number of characters to generate\n",
    "temperature = 1       # temperature to bias the predictions to most probable or to uniformly predict every char \n",
    "sequence_len = 50/2"
   ]
  },
  {
   "cell_type": "code",
   "execution_count": 147,
   "metadata": {},
   "outputs": [
    {
     "name": "stdout",
     "output_type": "stream",
     "text": [
      "There are 98 unique characters\n",
      "\n",
      "Training with\n",
      "hidden_size = 100, learning_rate = 0.010000, sequence_len = 25, num_epochs = 24\n",
      "\n",
      "2018-04-27 08:20:04\n",
      "\tepoch #4: \tloss = 2.885550\n",
      "Generated text for epoch 4\n",
      "\n",
      "Generating text of length 100\n",
      "Generated text: \n",
      "The Project Gutenberg-tm terserger to her to hermed to her to her to her to her to hermert to her to\n",
      "\n",
      "done!\n",
      "2018-04-27 08:23:39\n",
      "\tepoch #8: \tloss = 2.702681\n",
      "Generated text for epoch 8\n",
      "\n",
      "Generating text of length 100\n",
      "Generated text: \n",
      "The Project Gutenberg-tm eep to the Project Gutenberg-tm eep to the Project Gutenberg-tm eep to the \n",
      "\n",
      "done!\n",
      "2018-04-27 08:27:32\n",
      "\tepoch #12: \tloss = 2.594439\n",
      "Generated text for epoch 12\n",
      "\n",
      "Generating text of length 100\n",
      "Generated text: \n",
      "The hou he how arl out to ter to ters arowect Gutenberg-tm to here to ter to ter to ter to ter to te\n",
      "\n",
      "done!\n",
      "2018-04-27 08:31:40\n",
      "\tepoch #16: \tloss = 2.504579\n",
      "Generated text for epoch 16\n",
      "\n",
      "Generating text of length 100\n",
      "Generated text: \n",
      "The her to terutenberg-tm to of the Project Gutenberg-tm to the Project Gutenberg-tm to the Project \n",
      "\n",
      "done!\n",
      "2018-04-27 08:35:46\n",
      "\tepoch #20: \tloss = 2.504331\n",
      "Generated text for epoch 20\n",
      "\n",
      "Generating text of length 100\n",
      "Generated text: \n",
      "The Project Gutenberg-tm to he Four to he Four to he Four to he Four to he Four to he Four to he Fou\n",
      "\n",
      "done!\n",
      "2018-04-27 08:39:55\n",
      "\tepoch #24: \tloss = 2.492274\n",
      "Generated text for epoch 24\n",
      "\n",
      "Generating text of length 100\n",
      "Generated text: \n",
      "The Project Gutenberg-tm a cou tee how to her the Project Gutenberg-tm a cou tee how to her the Proj\n",
      "\n",
      "done!\n"
     ]
    },
    {
     "data": {
      "image/png": "[encoded data removed]",
      "text/plain": [
       "<matplotlib.figure.Figure at 0x7f1a0660d910>"
      ]
     },
     "metadata": {},
     "output_type": "display_data"
    }
   ],
   "source": [
    "x = read_file(filename)\n",
    "\n",
    "print 'Training with'\n",
    "print ('hidden_size = %d, learning_rate = %f, sequence_len = %d, num_epochs = %d\\n' \\\n",
    "%(hidden_size, learning_rate, sequence_len, num_epochs))\n",
    "\n",
    "\n",
    "train(net25, x, learning_rate, sequence_len, num_epochs, print_freq, breakpoint = True)\n",
    "\n"
   ]
  },
  {
   "cell_type": "code",
   "execution_count": 148,
   "metadata": {},
   "outputs": [
    {
     "name": "stdout",
     "output_type": "stream",
     "text": [
      "\n",
      "Generating text of length 100\n",
      "Generated text: \n",
      "lite to he how to her to her to her to her to her to her to her to her to her to her to her to her t\n",
      "\n",
      "done!\n"
     ]
    }
   ],
   "source": [
    "gen_text = generate(net25, start, gen_length, temperature, sequence_len)\n",
    "display(gen_text)"
   ]
  },
  {
   "cell_type": "markdown",
   "metadata": {},
   "source": [
    "#### Temp1"
   ]
  },
  {
   "cell_type": "markdown",
   "metadata": {},
   "source": [
    "##### text1"
   ]
  },
  {
   "cell_type": "code",
   "execution_count": 149,
   "metadata": {},
   "outputs": [],
   "source": [
    "start = ord('l')      #start character of generated text                \n",
    "gen_length = 100       # number of characters to generate\n",
    "temperature = 1       # temperature to bias the predictions to most probable or to uniformly predict every char \n",
    "sequence_len = 50"
   ]
  },
  {
   "cell_type": "code",
   "execution_count": 150,
   "metadata": {},
   "outputs": [
    {
     "name": "stdout",
     "output_type": "stream",
     "text": [
      "Generated text of length = 100, temperature = 1, start letter = 108\n",
      "\n",
      "\n",
      "Generating text of length 100\n",
      "Generated text: \n",
      "lite to he how to her to her to her to her to her to her to her to her to her to her to her to her t\n",
      "\n",
      "done!\n"
     ]
    }
   ],
   "source": [
    "\n",
    "print ('Generated text of length = %d, temperature = %d, start letter = %d\\n'\\\n",
    "        %(gen_length, temperature, start)\n",
    "      )\n",
    "gen_text = generate(net25, start, gen_length, temperature, sequence_len)\n",
    "display(gen_text)"
   ]
  },
  {
   "cell_type": "markdown",
   "metadata": {},
   "source": [
    "#### Temp2"
   ]
  },
  {
   "cell_type": "markdown",
   "metadata": {},
   "source": [
    "##### text1"
   ]
  },
  {
   "cell_type": "code",
   "execution_count": 151,
   "metadata": {},
   "outputs": [],
   "source": [
    "start = ord('a')      #start character of generated text                \n",
    "gen_length = 100       # number of characters to generate\n",
    "temperature = 10       # temperature to bias the predictions to most probable or to uniformly predict every char \n",
    "sequence_len = 50"
   ]
  },
  {
   "cell_type": "code",
   "execution_count": 152,
   "metadata": {},
   "outputs": [
    {
     "name": "stdout",
     "output_type": "stream",
     "text": [
      "Generated text of length = 100, temperature = 10, start letter = 97\n",
      "\n",
      "\n",
      "Generating text of length 100\n",
      "Generated text: \n",
      "ar tew the Project Gutenberg-tm a cou tee how to her the Project Gutenberg-tm a cou tee how to her t\n",
      "\n",
      "done!\n"
     ]
    }
   ],
   "source": [
    "\n",
    "print ('Generated text of length = %d, temperature = %d, start letter = %d\\n'\\\n",
    "        %(gen_length, temperature, start)\n",
    "      )\n",
    "gen_text = generate(net25, start, gen_length, temperature, sequence_len)\n",
    "display(gen_text)"
   ]
  },
  {
   "cell_type": "markdown",
   "metadata": {},
   "source": [
    "#### Temp3"
   ]
  },
  {
   "cell_type": "markdown",
   "metadata": {},
   "source": [
    "##### text1"
   ]
  },
  {
   "cell_type": "code",
   "execution_count": 153,
   "metadata": {},
   "outputs": [],
   "source": [
    "start = ord('r')      #start character of generated text                \n",
    "gen_length = 100       # number of characters to generate\n",
    "temperature = 100       # temperature to bias the predictions to most probable or to uniformly predict every char \n",
    "sequence_len = 50"
   ]
  },
  {
   "cell_type": "code",
   "execution_count": 154,
   "metadata": {},
   "outputs": [
    {
     "name": "stdout",
     "output_type": "stream",
     "text": [
      "Generated text of length = 100, temperature = 100, start letter = 114\n",
      "\n",
      "\n",
      "Generating text of length 100\n",
      "Generated text: \n",
      "rg Lou tee how to her about the Project Gutenberg-tm a cou tee how to her the Project Gutenberg-tm a\n",
      "\n",
      "done!\n"
     ]
    }
   ],
   "source": [
    "\n",
    "print ('Generated text of length = %d, temperature = %d, start letter = %d\\n'\\\n",
    "        %(gen_length, temperature, start)\n",
    "      )\n",
    "gen_text = generate(net25, start, gen_length, temperature, sequence_len)\n",
    "display(gen_text)"
   ]
  },
  {
   "cell_type": "markdown",
   "metadata": {},
   "source": [
    "## Observations"
   ]
  },
  {
   "cell_type": "raw",
   "metadata": {},
   "source": [
    "Similar observations to 2c i) were made here.\n",
    "\n",
    "Doubling the sequence made the model learn better whereas halving the sequence made it perform worse."
   ]
  },
  {
   "cell_type": "markdown",
   "metadata": {},
   "source": [
    "## Refrence taken from:\n",
    "\n",
    "http://wildml.com/2015/09/recurrent-neural-networks-tutorial-part-2-implementing-a-language-model-rnn-with-python-numpy-and-theano/"
   ]
  },
  {
   "cell_type": "markdown",
   "metadata": {},
   "source": [
    "# 2a"
   ]
  },
  {
   "cell_type": "markdown",
   "metadata": {},
   "source": [
    "## Forward"
   ]
  },
  {
   "cell_type": "code",
   "execution_count": null,
   "metadata": {},
   "outputs": [],
   "source": [
    "\n",
    "\n",
    "st = tanh(U*xt + W*st-1)\n",
    "ot = softmax(Vst)\n"
   ]
  },
  {
   "cell_type": "markdown",
   "metadata": {},
   "source": [
    "## Backward "
   ]
  },
  {
   "cell_type": "raw",
   "metadata": {},
   "source": [
    "d(Et)/d(V) = (yt - ot) x st\n",
    "\n",
    "here d is the partial derivative, yt is the predicted output, ot is the actual label, x is the cross product, E is the error\n",
    "\n",
    "d(Et)/d(W) = sum(t = k to T)((dEk/dyk)*(dyk/dsk)(pi(j=k+1 to T)(dsj/dsj-1))* dsk/dW)\n",
    "\n",
    "\n",
    "\n"
   ]
  }
 ],
 "metadata": {
  "kernelspec": {
   "display_name": "Python 2",
   "language": "python",
   "name": "python2"
  },
  "language_info": {
   "codemirror_mode": {
    "name": "ipython",
    "version": 2
   },
   "file_extension": ".py",
   "mimetype": "text/x-python",
   "name": "python",
   "nbconvert_exporter": "python",
   "pygments_lexer": "ipython2",
   "version": "2.7.14"
  }
 },
 "nbformat": 4,
 "nbformat_minor": 2
}
