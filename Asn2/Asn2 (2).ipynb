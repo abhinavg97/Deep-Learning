{
 "cells": [
  {
   "cell_type": "markdown",
   "metadata": {},
   "source": [
    "# 2"
   ]
  },
  {
   "cell_type": "markdown",
   "metadata": {},
   "source": [
    "### Loading train and test data"
   ]
  },
  {
   "cell_type": "code",
   "execution_count": 13,
   "metadata": {
    "collapsed": true
   },
   "outputs": [],
   "source": [
    "from __future__ import print_function\n",
    "\n",
    "import torch\n",
    "import torch.nn as nn\n",
    "import torch.nn.functional as F\n",
    "import torch.optim as optim\n",
    "from torchvision import datasets, transforms\n",
    "from torch.autograd import Variable\n",
    "from torch.optim.lr_scheduler import StepLR\n",
    "import matplotlib.pyplot as plt\n",
    "\n",
    "batch_size = 512\n",
    "test_batch_size = 10000\n",
    "log_interval = 193\n",
    "\n",
    "\n",
    "train_loader = torch.utils.data.DataLoader(\n",
    "    datasets.MNIST('../data', train=True, download=True,\n",
    "                   transform=transforms.Compose([\n",
    "                       transforms.ToTensor(),\n",
    "                       transforms.Normalize((0.1307,), (0.3081,))\n",
    "                   ])),\n",
    "    batch_size=batch_size, shuffle=True)\n",
    "\n",
    "test_loader = torch.utils.data.DataLoader(\n",
    "    datasets.MNIST('../data', train=False, transform=transforms.Compose([\n",
    "                       transforms.ToTensor(),\n",
    "                       transforms.Normalize((0.1307,), (0.3081,))\n",
    "                   ])),\n",
    "    batch_size=test_batch_size, shuffle=True)"
   ]
  },
  {
   "cell_type": "markdown",
   "metadata": {},
   "source": [
    "### Methods for training, testing and plotting"
   ]
  },
  {
   "cell_type": "code",
   "execution_count": 15,
   "metadata": {
    "collapsed": true
   },
   "outputs": [],
   "source": [
    "class Net(nn.Module):\n",
    "    def __init__(self, acf, prob, bn = False, xavier = False):\n",
    "        seed = 31                              # reproducible results\n",
    "        torch.manual_seed(seed)\n",
    "        super(Net, self).__init__()\n",
    "        self.bn = False\n",
    "        self.conv1 = nn.Conv2d(1, 10, kernel_size=5)\n",
    "        if xavier == True:\n",
    "            nn.init.xavier_uniform(self.conv1.weight)\n",
    "        self.conv2 = nn.Conv2d(10, 20, kernel_size=5)\n",
    "        self.conv2_drop = nn.Dropout2d(prob)\n",
    "        self.fc1 = nn.Linear(320, 50)\n",
    "        self.fc2 = nn.Linear(50, 10)\n",
    "        self.acf = acf\n",
    "        self.prob = prob\n",
    "        if bn == True:\n",
    "            self.bn = True\n",
    "            self.batchn = nn.BatchNorm1d(50)\n",
    "\n",
    "        \n",
    "    def forward(self, x):\n",
    "        x = self.conv1(x)\n",
    "        x = self.acf(F.max_pool2d(x, 2))\n",
    "        x = self.acf(F.max_pool2d(self.conv2_drop(self.conv2(x)), 2))\n",
    "        x = x.view(-1, 320)\n",
    "        if self.bn == True :\n",
    "            x = self.batchn(self.acf(self.fc1(x)))\n",
    "        else:\n",
    "            x = self.acf(self.fc1(x))\n",
    "        x = F.dropout(x, training=self.training, p = self.prob)\n",
    "        x = self.fc2(x)\n",
    "        return F.log_softmax(x)\n",
    "\n",
    "    \n",
    "\n",
    "\n"
   ]
  },
  {
   "cell_type": "markdown",
   "metadata": {},
   "source": [
    "## Methods for training and testing the net and plotting the graphs"
   ]
  },
  {
   "cell_type": "code",
   "execution_count": 16,
   "metadata": {
    "collapsed": true
   },
   "outputs": [],
   "source": [
    "def train(epoch):\n",
    "    model.train()\n",
    "    train_loss = 0\n",
    "    correct = 0\n",
    "\n",
    "    for batch_idx, (data, target) in enumerate(train_loader):\n",
    "        data, target = Variable(data), Variable(target)\n",
    "        optimizer.zero_grad()\n",
    "        output = model(data)\n",
    "        loss = F.nll_loss(output, target, size_average = True)\n",
    "        train_loss += loss.data[0]*len(target)\n",
    "        pred = output.data.max(1, keepdim = True)[1]\n",
    "        correct += pred.eq(target.data.view_as(pred)).cpu().sum()\n",
    "        loss.backward()\n",
    "        optimizer.step()\n",
    "        \n",
    "#         if batch_idx % log_interval == 0 :\n",
    "#             print('Train Epoch {}: [{}/{} ({:.0f}%)]\\tLoss: {:.6f}'.format(\n",
    "#                 epoch, batch_idx * len(data), len(train_loader.dataset),\n",
    "#                 100. * batch_idx / len(train_loader), loss.data[0]/len(data)))\n",
    "        \n",
    "    train_loss /= len(train_loader.dataset)    \n",
    "\n",
    "    \n",
    "    print('\\nTrain set {}: Average loss: {:.4f}, Training Accuracy {}/{} ({:.0f}%)\\n'.format( \n",
    "        epoch, train_loss, correct, len(train_loader.dataset),\n",
    "         (100.0 * correct) / len(train_loader.dataset)) ) \n",
    "    return train_loss, (100.0 * correct) / len(train_loader.dataset)\n",
    "\n",
    "\n",
    "\n",
    "def test(epoch):\n",
    "    # TODO: Test the model on the test-set and report the loss and accuracy.\n",
    "    model.eval()\n",
    "    test_loss = 0\n",
    "    correct = 0\n",
    "    for data, target in test_loader:\n",
    "        data, target = Variable(data, volatile = True), Variable(target) #volatile true means the data is read from memory rather than register everytime\n",
    "        output = model(data)\n",
    "        loss = F.nll_loss(output, target, size_average = True) # sum up batch loss, by default it averages\n",
    "        test_loss += loss.data[0] * len(target)                        # summing up the test loss, we'll later average it\n",
    "        pred = output.data.max(1, keepdim = True)[1]\n",
    "        correct += pred.eq(target.data.view_as(pred)).cpu().sum()  # summing the number of instatnces predicted correctly by the model\n",
    "        \n",
    "    test_loss /= len(test_loader.dataset)  # taking the average of the test_loss\n",
    "       \n",
    "    print('\\nTest set {}: Average loss: {:.4f}, Test Accuracy {}/{} ({:.0f}%)\\n'.format(  # classification error\n",
    "        epoch, test_loss, correct, len(test_loader.dataset),\n",
    "        100.0 *   correct / len(test_loader.dataset)) ) \n",
    "    return test_loss,  100.0 *   correct / len(test_loader.dataset)\n",
    "\n",
    "def graph(toplot, labels, title, xlabel, ylabel):\n",
    "    plt.title(title)\n",
    "    plt.xlabel(xlabel)\n",
    "    plt.ylabel(ylabel)\n",
    "    \n",
    "    for i in range(len(toplot)):\n",
    "        plt.plot(no_epoch, toplot[i], label = labels[i])\n",
    "        \n",
    "    plt.legend(loc = 'best')\n",
    "    plt.show()"
   ]
  },
  {
   "cell_type": "markdown",
   "metadata": {},
   "source": [
    "## 2a"
   ]
  },
  {
   "cell_type": "code",
   "execution_count": 17,
   "metadata": {
    "scrolled": true
   },
   "outputs": [
    {
     "name": "stderr",
     "output_type": "stream",
     "text": [
      "/home/abhi/anaconda2/lib/python2.7/site-packages/ipykernel_launcher.py:32: UserWarning: Implicit dimension choice for log_softmax has been deprecated. Change the call to include dim=X as an argument.\n"
     ]
    },
    {
     "name": "stdout",
     "output_type": "stream",
     "text": [
      "\n",
      "Train set 1: Average loss: 2.2536, Training Accuracy 10769/60000 (18%)\n",
      "\n",
      "\n",
      "Test set 1: Average loss: 2.1165, Test Accuracy 4285/10000 (43%)\n",
      "\n",
      "\n",
      "Train set 2: Average loss: 1.9422, Training Accuracy 20893/60000 (35%)\n",
      "\n",
      "\n",
      "Test set 2: Average loss: 1.4133, Test Accuracy 7287/10000 (73%)\n",
      "\n",
      "\n",
      "Train set 3: Average loss: 1.4002, Training Accuracy 32295/60000 (54%)\n",
      "\n",
      "\n",
      "Test set 3: Average loss: 0.7742, Test Accuracy 8275/10000 (83%)\n",
      "\n",
      "\n",
      "Train set 4: Average loss: 1.0416, Training Accuracy 39448/60000 (66%)\n",
      "\n",
      "\n",
      "Test set 4: Average loss: 0.5292, Test Accuracy 8721/10000 (87%)\n",
      "\n",
      "\n",
      "Train set 5: Average loss: 0.8587, Training Accuracy 43335/60000 (72%)\n",
      "\n",
      "\n",
      "Test set 5: Average loss: 0.4308, Test Accuracy 8915/10000 (89%)\n",
      "\n",
      "\n",
      "Train set 6: Average loss: 0.7537, Training Accuracy 45520/60000 (76%)\n",
      "\n",
      "\n",
      "Test set 6: Average loss: 0.3600, Test Accuracy 9066/10000 (91%)\n",
      "\n",
      "\n",
      "Train set 7: Average loss: 0.6742, Training Accuracy 47315/60000 (79%)\n",
      "\n",
      "\n",
      "Test set 7: Average loss: 0.3121, Test Accuracy 9176/10000 (92%)\n",
      "\n"
     ]
    }
   ],
   "source": [
    "model = Net(acf = F.relu, prob = 0.5, bn = False)\n",
    "\n",
    "# Training settings\n",
    "\n",
    "epochs = 7\n",
    "lr = 0.01\n",
    "momentum = 0\n",
    "dampening = 0\n",
    "weight_decay = 0\n",
    "nesterov = False\n",
    "\n",
    "optimizer = optim.SGD(model.parameters(), lr=lr, momentum = momentum, dampening = dampening,\n",
    "                      weight_decay = weight_decay, nesterov = nesterov)\n",
    "\n",
    "trainloss = []\n",
    "testloss = []\n",
    "trainacc = []\n",
    "testacc = []\n",
    "no_epoch = []\n",
    "\n",
    "# scheduler = StepLR(optimizer, step_size=2) # dynamic learning rate, changes lr after step number of epochs\n",
    "for epoch in range(1, epochs + 1):\n",
    "#     scheduler.step()\n",
    "    no_epoch.append(epoch)\n",
    "    \n",
    "    train_loss, train_acc = train(epoch)\n",
    "    trainloss.append(train_loss)\n",
    "    trainacc += [train_acc]\n",
    "    \n",
    "    test_loss, test_acc = test(epoch)\n",
    "    testloss.append(test_loss)\n",
    "    testacc += [test_acc]\n",
    "    \n",
    "# graph()\n",
    "relu_trainacc = trainacc\n",
    "relu_testacc = testacc"
   ]
  },
  {
   "cell_type": "code",
   "execution_count": 40,
   "metadata": {
    "scrolled": true
   },
   "outputs": [
    {
     "name": "stderr",
     "output_type": "stream",
     "text": [
      "/home/abhi/anaconda2/lib/python2.7/site-packages/ipykernel_launcher.py:32: UserWarning: Implicit dimension choice for log_softmax has been deprecated. Change the call to include dim=X as an argument.\n"
     ]
    },
    {
     "name": "stdout",
     "output_type": "stream",
     "text": [
      "\n",
      "Train set 1: Average loss: 2.3422, Training Accuracy 6196/60000 (10%)\n",
      "\n",
      "\n",
      "Test set 1: Average loss: 2.3011, Test Accuracy 1135/10000 (11%)\n",
      "\n",
      "\n",
      "Train set 2: Average loss: 2.3355, Training Accuracy 6071/60000 (10%)\n",
      "\n",
      "\n",
      "Test set 2: Average loss: 2.3008, Test Accuracy 1135/10000 (11%)\n",
      "\n",
      "\n",
      "Train set 3: Average loss: 2.3291, Training Accuracy 6156/60000 (10%)\n",
      "\n",
      "\n",
      "Test set 3: Average loss: 2.3006, Test Accuracy 1135/10000 (11%)\n",
      "\n",
      "\n",
      "Train set 4: Average loss: 2.3265, Training Accuracy 6057/60000 (10%)\n",
      "\n",
      "\n",
      "Test set 4: Average loss: 2.3006, Test Accuracy 1135/10000 (11%)\n",
      "\n",
      "\n",
      "Train set 5: Average loss: 2.3224, Training Accuracy 6216/60000 (10%)\n",
      "\n",
      "\n",
      "Test set 5: Average loss: 2.3005, Test Accuracy 1135/10000 (11%)\n",
      "\n",
      "\n",
      "Train set 6: Average loss: 2.3210, Training Accuracy 6143/60000 (10%)\n",
      "\n",
      "\n",
      "Test set 6: Average loss: 2.3004, Test Accuracy 1135/10000 (11%)\n",
      "\n",
      "\n",
      "Train set 7: Average loss: 2.3183, Training Accuracy 6120/60000 (10%)\n",
      "\n",
      "\n",
      "Test set 7: Average loss: 2.3004, Test Accuracy 1135/10000 (11%)\n",
      "\n"
     ]
    }
   ],
   "source": [
    "model = Net(acf = F.sigmoid, prob = 0.5, bn = False)\n",
    "\n",
    "# Training settings\n",
    "\n",
    "epochs = 7\n",
    "lr = 0.01\n",
    "momentum = 0\n",
    "dampening = 0\n",
    "weight_decay = 0\n",
    "nesterov = False\n",
    "\n",
    "optimizer = optim.SGD(model.parameters(), lr=lr, momentum = momentum, dampening = dampening,\n",
    "                      weight_decay = weight_decay, nesterov = nesterov)\n",
    "\n",
    "trainloss = []\n",
    "testloss = []\n",
    "trainacc = []\n",
    "testacc = []\n",
    "no_epoch = []\n",
    "\n",
    "# scheduler = StepLR(optimizer, step_size = 2) # dynamic learning rate, changes lr after step number of epochs\n",
    "for epoch in range(1, epochs + 1):\n",
    "#     scheduler.step()\n",
    "    no_epoch.append(epoch)\n",
    "    \n",
    "    train_loss, train_acc = train(epoch)\n",
    "    trainloss.append(train_loss)\n",
    "    trainacc += [train_acc]\n",
    "    \n",
    "    test_loss, test_acc = test(epoch)\n",
    "    testloss.append(test_loss)\n",
    "    testacc += [test_acc]\n",
    "    \n",
    "# graph()\n",
    "sigmoid_trainacc = trainacc\n",
    "sigmoid_testacc = testacc"
   ]
  },
  {
   "cell_type": "code",
   "execution_count": 41,
   "metadata": {},
   "outputs": [
    {
     "data": {
      "image/png": "[encoded data removed]",
      "text/plain": [
       "<matplotlib.figure.Figure at 0x7ff8f9800c10>"
      ]
     },
     "metadata": {},
     "output_type": "display_data"
    }
   ],
   "source": [
    "toplot = [relu_trainacc, relu_testacc, sigmoid_trainacc, sigmoid_testacc]\n",
    "labels = ['relu train Accuracy', 'relu test Accuracy', 'sigmoid train Accuracy', 'sigmoid test Accuracy']\n",
    "graph(toplot, labels, 'Train and Test Accuracy vs epochs', 'epochs', 'Accuracy')"
   ]
  },
  {
   "cell_type": "markdown",
   "metadata": {},
   "source": [
    "## Report\n",
    "\n",
    "Sigmoid gives very poor results as the gradients saturates very quickly \n",
    "\n",
    "During Backprop, when we pass a gradient backward, functions such as sigmoid will zero out the gradient if the atcivation function is high. \n",
    "\n",
    "The outputs of layers in the forward pass are too high for these types of activations to backprop a meaningful gradient, and thus the network can’t learn.\n",
    "\n",
    "Notice all this took place within a single layer activation. That means that it can happen for a deep network as well as for a one-layer neural network. ReLU prevents this issue from happening by providing a nonlinear function that doesn’t saturate (the derivative is always just 1 for x > 0, meaning it acts as an identity function in backprop)"
   ]
  },
  {
   "cell_type": "markdown",
   "metadata": {},
   "source": [
    "## 2b"
   ]
  },
  {
   "cell_type": "code",
   "execution_count": 18,
   "metadata": {
    "scrolled": true
   },
   "outputs": [
    {
     "name": "stderr",
     "output_type": "stream",
     "text": [
      "/home/abhi/anaconda2/lib/python2.7/site-packages/ipykernel_launcher.py:32: UserWarning: Implicit dimension choice for log_softmax has been deprecated. Change the call to include dim=X as an argument.\n"
     ]
    },
    {
     "name": "stdout",
     "output_type": "stream",
     "text": [
      "\n",
      "Train set 1: Average loss: 2.1653, Training Accuracy 19301/60000 (32%)\n",
      "\n",
      "\n",
      "Test set 1: Average loss: 1.8350, Test Accuracy 5266/10000 (53%)\n",
      "\n",
      "\n",
      "Train set 2: Average loss: 1.1082, Training Accuracy 44108/60000 (74%)\n",
      "\n",
      "\n",
      "Test set 2: Average loss: 0.5932, Test Accuracy 8287/10000 (83%)\n",
      "\n",
      "\n",
      "Train set 3: Average loss: 0.4773, Training Accuracy 51718/60000 (86%)\n",
      "\n",
      "\n",
      "Test set 3: Average loss: 0.3905, Test Accuracy 8843/10000 (88%)\n",
      "\n",
      "\n",
      "Train set 4: Average loss: 0.3501, Training Accuracy 53836/60000 (90%)\n",
      "\n",
      "\n",
      "Test set 4: Average loss: 0.3065, Test Accuracy 9096/10000 (91%)\n",
      "\n",
      "\n",
      "Train set 5: Average loss: 0.2864, Training Accuracy 54878/60000 (91%)\n",
      "\n",
      "\n",
      "Test set 5: Average loss: 0.3077, Test Accuracy 9027/10000 (90%)\n",
      "\n",
      "\n",
      "Train set 6: Average loss: 0.2456, Training Accuracy 55645/60000 (93%)\n",
      "\n",
      "\n",
      "Test set 6: Average loss: 0.2233, Test Accuracy 9326/10000 (93%)\n",
      "\n",
      "\n",
      "Train set 7: Average loss: 0.2158, Training Accuracy 56167/60000 (94%)\n",
      "\n",
      "\n",
      "Test set 7: Average loss: 0.2006, Test Accuracy 9416/10000 (94%)\n",
      "\n",
      "\n",
      "Train set 1: Average loss: 2.2109, Training Accuracy 14853/60000 (25%)\n",
      "\n",
      "\n",
      "Test set 1: Average loss: 1.9649, Test Accuracy 4967/10000 (50%)\n",
      "\n",
      "\n",
      "Train set 2: Average loss: 1.5383, Training Accuracy 31743/60000 (53%)\n",
      "\n",
      "\n",
      "Test set 2: Average loss: 0.8200, Test Accuracy 8143/10000 (81%)\n",
      "\n",
      "\n",
      "Train set 3: Average loss: 0.8408, Training Accuracy 44356/60000 (74%)\n",
      "\n",
      "\n",
      "Test set 3: Average loss: 0.4688, Test Accuracy 8710/10000 (87%)\n",
      "\n",
      "\n",
      "Train set 4: Average loss: 0.6118, Training Accuracy 48711/60000 (81%)\n",
      "\n",
      "\n",
      "Test set 4: Average loss: 0.3593, Test Accuracy 9027/10000 (90%)\n",
      "\n",
      "\n",
      "Train set 5: Average loss: 0.5112, Training Accuracy 50709/60000 (85%)\n",
      "\n",
      "\n",
      "Test set 5: Average loss: 0.3041, Test Accuracy 9126/10000 (91%)\n",
      "\n",
      "\n",
      "Train set 6: Average loss: 0.4441, Training Accuracy 51997/60000 (87%)\n",
      "\n",
      "\n",
      "Test set 6: Average loss: 0.2589, Test Accuracy 9274/10000 (93%)\n",
      "\n",
      "\n",
      "Train set 7: Average loss: 0.3978, Training Accuracy 52793/60000 (88%)\n",
      "\n",
      "\n",
      "Test set 7: Average loss: 0.2305, Test Accuracy 9333/10000 (93%)\n",
      "\n",
      "\n",
      "Train set 1: Average loss: 2.2536, Training Accuracy 10769/60000 (18%)\n",
      "\n",
      "\n",
      "Test set 1: Average loss: 2.1165, Test Accuracy 4285/10000 (43%)\n",
      "\n",
      "\n",
      "Train set 2: Average loss: 1.9422, Training Accuracy 20893/60000 (35%)\n",
      "\n",
      "\n",
      "Test set 2: Average loss: 1.4133, Test Accuracy 7287/10000 (73%)\n",
      "\n",
      "\n",
      "Train set 3: Average loss: 1.4002, Training Accuracy 32295/60000 (54%)\n",
      "\n",
      "\n",
      "Test set 3: Average loss: 0.7742, Test Accuracy 8275/10000 (83%)\n",
      "\n",
      "\n",
      "Train set 4: Average loss: 1.0416, Training Accuracy 39448/60000 (66%)\n",
      "\n",
      "\n",
      "Test set 4: Average loss: 0.5292, Test Accuracy 8721/10000 (87%)\n",
      "\n",
      "\n",
      "Train set 5: Average loss: 0.8587, Training Accuracy 43335/60000 (72%)\n",
      "\n",
      "\n",
      "Test set 5: Average loss: 0.4308, Test Accuracy 8915/10000 (89%)\n",
      "\n",
      "\n",
      "Train set 6: Average loss: 0.7537, Training Accuracy 45520/60000 (76%)\n",
      "\n",
      "\n",
      "Test set 6: Average loss: 0.3600, Test Accuracy 9066/10000 (91%)\n",
      "\n",
      "\n",
      "Train set 7: Average loss: 0.6742, Training Accuracy 47315/60000 (79%)\n",
      "\n",
      "\n",
      "Test set 7: Average loss: 0.3121, Test Accuracy 9176/10000 (92%)\n",
      "\n",
      "\n",
      "Train set 1: Average loss: 2.2950, Training Accuracy 7981/60000 (13%)\n",
      "\n",
      "\n",
      "Test set 1: Average loss: 2.2500, Test Accuracy 2458/10000 (25%)\n",
      "\n",
      "\n",
      "Train set 2: Average loss: 2.2277, Training Accuracy 10900/60000 (18%)\n",
      "\n",
      "\n",
      "Test set 2: Average loss: 2.1209, Test Accuracy 4434/10000 (44%)\n",
      "\n",
      "\n",
      "Train set 3: Average loss: 2.1130, Training Accuracy 14305/60000 (24%)\n",
      "\n",
      "\n",
      "Test set 3: Average loss: 1.8837, Test Accuracy 6195/10000 (62%)\n",
      "\n",
      "\n",
      "Train set 4: Average loss: 1.9496, Training Accuracy 18175/60000 (30%)\n",
      "\n",
      "\n",
      "Test set 4: Average loss: 1.5537, Test Accuracy 7346/10000 (73%)\n",
      "\n",
      "\n",
      "Train set 5: Average loss: 1.7582, Training Accuracy 22344/60000 (37%)\n",
      "\n",
      "\n",
      "Test set 5: Average loss: 1.2549, Test Accuracy 8092/10000 (81%)\n",
      "\n",
      "\n",
      "Train set 6: Average loss: 1.5907, Training Accuracy 26189/60000 (44%)\n",
      "\n",
      "\n",
      "Test set 6: Average loss: 1.0145, Test Accuracy 8419/10000 (84%)\n",
      "\n",
      "\n",
      "Train set 7: Average loss: 1.4489, Training Accuracy 29330/60000 (49%)\n",
      "\n",
      "\n",
      "Test set 7: Average loss: 0.8431, Test Accuracy 8657/10000 (87%)\n",
      "\n",
      "\n",
      "Train set 1: Average loss: 2.3024, Training Accuracy 6742/60000 (11%)\n",
      "\n",
      "\n",
      "Test set 1: Average loss: 2.3038, Test Accuracy 736/10000 (7%)\n",
      "\n",
      "\n",
      "Train set 2: Average loss: 2.3022, Training Accuracy 6742/60000 (11%)\n",
      "\n",
      "\n",
      "Test set 2: Average loss: 2.3036, Test Accuracy 726/10000 (7%)\n",
      "\n",
      "\n",
      "Train set 3: Average loss: 2.3020, Training Accuracy 6742/60000 (11%)\n",
      "\n",
      "\n",
      "Test set 3: Average loss: 2.3034, Test Accuracy 718/10000 (7%)\n",
      "\n",
      "\n",
      "Train set 4: Average loss: 2.3018, Training Accuracy 6742/60000 (11%)\n",
      "\n",
      "\n",
      "Test set 4: Average loss: 2.3033, Test Accuracy 730/10000 (7%)\n",
      "\n",
      "\n",
      "Train set 5: Average loss: 2.3017, Training Accuracy 6742/60000 (11%)\n",
      "\n",
      "\n",
      "Test set 5: Average loss: 2.3032, Test Accuracy 742/10000 (7%)\n",
      "\n",
      "\n",
      "Train set 6: Average loss: 2.3016, Training Accuracy 6742/60000 (11%)\n",
      "\n",
      "\n",
      "Test set 6: Average loss: 2.3031, Test Accuracy 762/10000 (8%)\n",
      "\n",
      "\n",
      "Train set 7: Average loss: 2.3015, Training Accuracy 6742/60000 (11%)\n",
      "\n",
      "\n",
      "Test set 7: Average loss: 2.3030, Test Accuracy 767/10000 (8%)\n",
      "\n"
     ]
    }
   ],
   "source": [
    "prob = [0, 0.25, 0.5, 0.75, 1]\n",
    "dropouttrain_acc = []\n",
    "dropouttest_acc = []\n",
    "\n",
    "for p in prob:\n",
    "    model = Net(acf = F.relu, prob = p, bn = False)\n",
    "\n",
    "    # Training settings\n",
    "\n",
    "    epochs = 7\n",
    "    lr = 0.01\n",
    "    momentum = 0\n",
    "    dampening = 0\n",
    "    weight_decay = 0\n",
    "    nesterov = False\n",
    "\n",
    "    optimizer = optim.SGD(model.parameters(), lr=lr, momentum = momentum, dampening = dampening,\n",
    "                          weight_decay = weight_decay, nesterov = nesterov)\n",
    "\n",
    "    trainloss = []\n",
    "    testloss = []\n",
    "    trainacc = []\n",
    "    testacc = []\n",
    "    no_epoch = []\n",
    "\n",
    "#     scheduler = StepLR(optimizer, step_size = 10, gamma=0.1) # dynamic learning rate, changes lr after step number of epochs\n",
    "    for epoch in range(1, epochs + 1):\n",
    "#         scheduler.step()\n",
    "        no_epoch.append(epoch)\n",
    "\n",
    "        train_loss, train_acc = train(epoch)\n",
    "        trainloss.append(train_loss)\n",
    "        trainacc += [train_acc]\n",
    "    \n",
    "        test_loss, test_acc = test(epoch)\n",
    "        testloss.append(test_loss)  \n",
    "        testacc += [test_acc]\n",
    "        \n",
    "    dropouttrain_acc += [trainacc]\n",
    "    dropouttest_acc += [testacc]\n"
   ]
  },
  {
   "cell_type": "code",
   "execution_count": 19,
   "metadata": {
    "collapsed": true
   },
   "outputs": [],
   "source": [
    "toplot = dropouttrain_acc\n",
    "labels = ['p = 0', 'p = 0.25', 'p = 0.5', 'p = 0.75', 'p = 1']"
   ]
  },
  {
   "cell_type": "code",
   "execution_count": 20,
   "metadata": {},
   "outputs": [
    {
     "data": {
      "image/png": "[encoded data removed]",
      "text/plain": [
       "<matplotlib.figure.Figure at 0x7ff8fa717050>"
      ]
     },
     "metadata": {},
     "output_type": "display_data"
    }
   ],
   "source": [
    "graph(toplot, labels, 'Train Accuracy for diff dropouts vs epochs', 'epochs', 'Accuracy')"
   ]
  },
  {
   "cell_type": "code",
   "execution_count": 21,
   "metadata": {},
   "outputs": [
    {
     "data": {
      "image/png": "[encoded data removed]",
      "text/plain": [
       "<matplotlib.figure.Figure at 0x7ff8fdd6fc50>"
      ]
     },
     "metadata": {},
     "output_type": "display_data"
    }
   ],
   "source": [
    "toplot = dropouttest_acc\n",
    "labels = ['p = 0', 'p = 0.25', 'p = 0.5', 'p = 0.75', 'p = 1']\n",
    "graph(toplot, labels, 'Test Accuracy for diff dropouts vs epochs', 'epochs', 'Accuracy')"
   ]
  },
  {
   "cell_type": "markdown",
   "metadata": {},
   "source": [
    "## Observations"
   ]
  },
  {
   "cell_type": "raw",
   "metadata": {},
   "source": [
    "\n",
    "\n",
    "  dropout prob  Train Accuracy       Test Accuracy\n",
    "\n",
    "    0.25              88%                   93%\n",
    "    0.5               79%                   92%\n",
    "    0.75              49%                   87%\n",
    "    1                 11%                   8%"
   ]
  },
  {
   "cell_type": "markdown",
   "metadata": {},
   "source": [
    "    \n",
    "## Report\n",
    "\n",
    "As the droput probabability value increases , the test set accuracy genrally increase as the model generalizes without overfitting on the training data but increasing it to a very high value leads to the model not learning the desired paramteres at all.\n",
    "\n",
    "The results are heavily dependant on the mini batch size used for training and obviously the initial weights of the neural network , I have added a seed while initializing the neural network for fair comparision.\n",
    "\n",
    "Dropout with probability 0.25 gives the best result both in terms of train and test performance for the chosen parameters.\n",
    "\n",
    "The dropout criteria is hard to predict as we generally expect that as dropout probablity increase the test accuracy should improve for the above mentioned reason, but increasing it too high will cause trouble.\n",
    "\n",
    "Note: I have included the graph without dropouts too to compare its performance with others\n"
   ]
  },
  {
   "cell_type": "markdown",
   "metadata": {},
   "source": [
    "## 2c"
   ]
  },
  {
   "cell_type": "code",
   "execution_count": 22,
   "metadata": {
    "scrolled": true
   },
   "outputs": [
    {
     "name": "stderr",
     "output_type": "stream",
     "text": [
      "/home/abhi/anaconda2/lib/python2.7/site-packages/ipykernel_launcher.py:32: UserWarning: Implicit dimension choice for log_softmax has been deprecated. Change the call to include dim=X as an argument.\n"
     ]
    },
    {
     "name": "stdout",
     "output_type": "stream",
     "text": [
      "\n",
      "Train set 1: Average loss: 1.7446, Training Accuracy 32695/60000 (54%)\n",
      "\n",
      "\n",
      "Test set 1: Average loss: 1.3122, Test Accuracy 8412/10000 (84%)\n",
      "\n",
      "\n",
      "Train set 2: Average loss: 1.1709, Training Accuracy 48187/60000 (80%)\n",
      "\n",
      "\n",
      "Test set 2: Average loss: 0.8690, Test Accuracy 9073/10000 (91%)\n",
      "\n",
      "\n",
      "Train set 3: Average loss: 0.8464, Training Accuracy 52383/60000 (87%)\n",
      "\n",
      "\n",
      "Test set 3: Average loss: 0.5979, Test Accuracy 9323/10000 (93%)\n",
      "\n",
      "\n",
      "Train set 4: Average loss: 0.6406, Training Accuracy 54078/60000 (90%)\n",
      "\n",
      "\n",
      "Test set 4: Average loss: 0.4347, Test Accuracy 9449/10000 (94%)\n",
      "\n",
      "\n",
      "Train set 5: Average loss: 0.5119, Training Accuracy 55113/60000 (92%)\n",
      "\n",
      "\n",
      "Test set 5: Average loss: 0.3373, Test Accuracy 9519/10000 (95%)\n",
      "\n",
      "\n",
      "Train set 6: Average loss: 0.4254, Training Accuracy 55672/60000 (93%)\n",
      "\n",
      "\n",
      "Test set 6: Average loss: 0.2809, Test Accuracy 9563/10000 (96%)\n",
      "\n",
      "\n",
      "Train set 7: Average loss: 0.3625, Training Accuracy 56275/60000 (94%)\n",
      "\n",
      "\n",
      "Test set 7: Average loss: 0.2292, Test Accuracy 9619/10000 (96%)\n",
      "\n"
     ]
    }
   ],
   "source": [
    "model = Net(acf = F.relu, prob = 0.25, bn = True)\n",
    "\n",
    "# Training settings\n",
    "\n",
    "epochs = 7\n",
    "lr = 0.01\n",
    "momentum = 0\n",
    "dampening = 0\n",
    "weight_decay = 0\n",
    "nesterov = False\n",
    "\n",
    "optimizer = optim.SGD(model.parameters(), lr=lr, momentum = momentum, dampening = dampening,\n",
    "                      weight_decay = weight_decay, nesterov = nesterov)\n",
    "\n",
    "trainloss = []\n",
    "testloss = []\n",
    "trainacc = []\n",
    "testacc = []\n",
    "no_epoch = []\n",
    "\n",
    "scheduler = StepLR(optimizer, step_size = 10, gamma=0.1) # dynamic learning rate, changes lr after step number of epochs\n",
    "for epoch in range(1, epochs + 1):\n",
    "    scheduler.step()\n",
    "    no_epoch.append(epoch)\n",
    "    \n",
    "    train_loss, train_acc = train(epoch)\n",
    "    trainloss.append(train_loss)\n",
    "    trainacc += [train_acc]\n",
    "    \n",
    "    test_loss, test_acc = test(epoch)\n",
    "    testloss.append(test_loss)\n",
    "    testacc += [test_acc]\n",
    "    \n",
    "# graph()\n",
    "wdo_trainacc = trainacc\n",
    "wdo_testacc = testacc"
   ]
  },
  {
   "cell_type": "code",
   "execution_count": 26,
   "metadata": {},
   "outputs": [
    {
     "data": {
      "image/png": "[encoded data removed]",
      "text/plain": [
       "<matplotlib.figure.Figure at 0x7ff8f977ca90>"
      ]
     },
     "metadata": {},
     "output_type": "display_data"
    }
   ],
   "source": [
    "toplot = [dropouttrain_acc[1], wdo_trainacc]\n",
    "labels = ['Dropout without batchnorm', 'Dropout with batchnorm']\n",
    "graph(toplot, labels, 'Train Accuracy vs epochs (batchnorm evaluation)','epochs','Accuracy')"
   ]
  },
  {
   "cell_type": "code",
   "execution_count": 27,
   "metadata": {},
   "outputs": [
    {
     "data": {
      "image/png": "[encoded data removed]",
      "text/plain": [
       "<matplotlib.figure.Figure at 0x7ff8fa7f8b50>"
      ]
     },
     "metadata": {},
     "output_type": "display_data"
    }
   ],
   "source": [
    "toplot = [dropouttest_acc[1], wdo_testacc]\n",
    "labels = ['Dropout without batchnorm', 'Dropout with batchnorm']\n",
    "graph(toplot, labels, 'Test Accuracy vs epochs (batchnorm evaluation)','epochs','Accuracy')"
   ]
  },
  {
   "cell_type": "markdown",
   "metadata": {},
   "source": [
    "## Observations\n",
    "\n",
    "Train Performance : 94 %\n",
    "Test Performance : 96%\n",
    "\n",
    "Dropout with batchnorm outperforms dropout without it.\n",
    "\n",
    "## Report\n",
    "\n",
    "Batch norm performs better as it avoids internal covariate shift.\n",
    "\n",
    "By using batch norm for every mini batch this problem is avoided."
   ]
  },
  {
   "cell_type": "code",
   "execution_count": 28,
   "metadata": {
    "scrolled": true
   },
   "outputs": [
    {
     "name": "stderr",
     "output_type": "stream",
     "text": [
      "/home/abhi/anaconda2/lib/python2.7/site-packages/ipykernel_launcher.py:32: UserWarning: Implicit dimension choice for log_softmax has been deprecated. Change the call to include dim=X as an argument.\n"
     ]
    },
    {
     "name": "stdout",
     "output_type": "stream",
     "text": [
      "\n",
      "Train set 1: Average loss: 1.5367, Training Accuracy 43367/60000 (72%)\n",
      "\n",
      "\n",
      "Test set 1: Average loss: 1.1138, Test Accuracy 8648/10000 (86%)\n",
      "\n",
      "\n",
      "Train set 2: Average loss: 0.9321, Training Accuracy 53602/60000 (89%)\n",
      "\n",
      "\n",
      "Test set 2: Average loss: 0.7253, Test Accuracy 9208/10000 (92%)\n",
      "\n",
      "\n",
      "Train set 3: Average loss: 0.6201, Training Accuracy 55810/60000 (93%)\n",
      "\n",
      "\n",
      "Test set 3: Average loss: 0.4962, Test Accuracy 9455/10000 (95%)\n",
      "\n",
      "\n",
      "Train set 4: Average loss: 0.4416, Training Accuracy 56839/60000 (95%)\n",
      "\n",
      "\n",
      "Test set 4: Average loss: 0.3554, Test Accuracy 9567/10000 (96%)\n",
      "\n",
      "\n",
      "Train set 5: Average loss: 0.3344, Training Accuracy 57409/60000 (96%)\n",
      "\n",
      "\n",
      "Test set 5: Average loss: 0.2935, Test Accuracy 9612/10000 (96%)\n",
      "\n",
      "\n",
      "Train set 6: Average loss: 0.2671, Training Accuracy 57790/60000 (96%)\n",
      "\n",
      "\n",
      "Test set 6: Average loss: 0.2297, Test Accuracy 9686/10000 (97%)\n",
      "\n",
      "\n",
      "Train set 7: Average loss: 0.2214, Training Accuracy 58034/60000 (97%)\n",
      "\n",
      "\n",
      "Test set 7: Average loss: 0.1932, Test Accuracy 9719/10000 (97%)\n",
      "\n"
     ]
    }
   ],
   "source": [
    "model = Net(acf = F.relu, prob = 0, bn = True)\n",
    "\n",
    "# Training settings\n",
    "\n",
    "epochs = 7\n",
    "lr = 0.01\n",
    "momentum = 0\n",
    "dampening = 0\n",
    "weight_decay = 0\n",
    "nesterov = False\n",
    "\n",
    "optimizer = optim.SGD(model.parameters(), lr=lr, momentum = momentum, dampening = dampening,\n",
    "                      weight_decay = weight_decay, nesterov = nesterov)\n",
    "\n",
    "trainloss = []\n",
    "testloss = []\n",
    "trainacc = []\n",
    "testacc = []\n",
    "no_epoch = []\n",
    "\n",
    "scheduler = StepLR(optimizer, step_size = 10, gamma=0.1) # dynamic learning rate, changes lr after step number of epochs\n",
    "for epoch in range(1, epochs + 1):\n",
    "    scheduler.step()\n",
    "    no_epoch.append(epoch)\n",
    "    \n",
    "    train_loss, train_acc = train(epoch)\n",
    "    trainloss.append(train_loss)\n",
    "    trainacc += [train_acc]\n",
    "    \n",
    "    test_loss, test_acc = test(epoch)\n",
    "    testloss.append(test_loss)\n",
    "    testacc += [test_acc]\n",
    "    \n",
    "# graph()\n",
    "wodo_trainacc = trainacc\n",
    "wodo_testacc = testacc"
   ]
  },
  {
   "cell_type": "code",
   "execution_count": 33,
   "metadata": {},
   "outputs": [
    {
     "data": {
      "image/png": "[encoded data removed]",
      "text/plain": [
       "<matplotlib.figure.Figure at 0x7ff8fa77e4d0>"
      ]
     },
     "metadata": {},
     "output_type": "display_data"
    }
   ],
   "source": [
    "toplot = [wdo_trainacc, wodo_trainacc]\n",
    "labels = ['Batchnorm with dropout', 'Batchnorm without dropout']\n",
    "graph(toplot, labels, 'Train Accuracy vs epochs', 'epochs', 'Accuracy')"
   ]
  },
  {
   "cell_type": "code",
   "execution_count": 34,
   "metadata": {},
   "outputs": [
    {
     "data": {
      "image/png": "[encoded data removed]",
      "text/plain": [
       "<matplotlib.figure.Figure at 0x7ff8fa6e2250>"
      ]
     },
     "metadata": {},
     "output_type": "display_data"
    }
   ],
   "source": [
    "toplot = [wdo_testacc, wodo_testacc]\n",
    "labels = ['Batchnorm with dropout', 'Batchnorm without dropout']\n",
    "graph(toplot, labels, 'Test Accuracy vs epochs', 'epochs', 'Accuracy')"
   ]
  },
  {
   "cell_type": "markdown",
   "metadata": {},
   "source": [
    "## Observations\n",
    "\n",
    "Batchnorm with dropout train accuracy : 97%\n",
    "Batchnorm without dropout train accuracy : 94%\n",
    "\n",
    "Batchnorm with dropout test accuracy : 97%\n",
    "Batchnorm without dropout train accuracy : 96%\n",
    "\n",
    "## Report\n",
    "\n",
    "Batchnorm without dropout performs better , as said earlier it is hard to predict a suitable dropout probablity\n",
    "\n",
    "It just happens that in this case dropout do not give us better results"
   ]
  },
  {
   "cell_type": "markdown",
   "metadata": {},
   "source": [
    "## 2d"
   ]
  },
  {
   "cell_type": "code",
   "execution_count": 35,
   "metadata": {
    "scrolled": true
   },
   "outputs": [
    {
     "name": "stderr",
     "output_type": "stream",
     "text": [
      "/home/abhi/anaconda2/lib/python2.7/site-packages/ipykernel_launcher.py:32: UserWarning: Implicit dimension choice for log_softmax has been deprecated. Change the call to include dim=X as an argument.\n"
     ]
    },
    {
     "name": "stdout",
     "output_type": "stream",
     "text": [
      "\n",
      "Train set 1: Average loss: 1.5337, Training Accuracy 41002/60000 (68%)\n",
      "\n",
      "\n",
      "Test set 1: Average loss: 1.1384, Test Accuracy 8321/10000 (83%)\n",
      "\n",
      "\n",
      "Train set 2: Average loss: 0.9394, Training Accuracy 52724/60000 (88%)\n",
      "\n",
      "\n",
      "Test set 2: Average loss: 0.7333, Test Accuracy 9157/10000 (92%)\n",
      "\n",
      "\n",
      "Train set 3: Average loss: 0.6291, Training Accuracy 55517/60000 (93%)\n",
      "\n",
      "\n",
      "Test set 3: Average loss: 0.5092, Test Accuracy 9372/10000 (94%)\n",
      "\n",
      "\n",
      "Train set 4: Average loss: 0.4447, Training Accuracy 56677/60000 (94%)\n",
      "\n",
      "\n",
      "Test set 4: Average loss: 0.3808, Test Accuracy 9473/10000 (95%)\n",
      "\n",
      "\n",
      "Train set 5: Average loss: 0.3344, Training Accuracy 57353/60000 (96%)\n",
      "\n",
      "\n",
      "Test set 5: Average loss: 0.3028, Test Accuracy 9554/10000 (96%)\n",
      "\n",
      "\n",
      "Train set 6: Average loss: 0.2647, Training Accuracy 57777/60000 (96%)\n",
      "\n",
      "\n",
      "Test set 6: Average loss: 0.2305, Test Accuracy 9652/10000 (97%)\n",
      "\n",
      "\n",
      "Train set 7: Average loss: 0.2180, Training Accuracy 58051/60000 (97%)\n",
      "\n",
      "\n",
      "Test set 7: Average loss: 0.1936, Test Accuracy 9704/10000 (97%)\n",
      "\n"
     ]
    }
   ],
   "source": [
    "model = Net(acf = F.relu, prob = 0, bn = True, xavier = True)\n",
    "\n",
    "# Training settings\n",
    "\n",
    "epochs = 7\n",
    "lr = 0.01\n",
    "momentum = 0\n",
    "dampening = 0\n",
    "weight_decay = 0\n",
    "nesterov = False\n",
    "\n",
    "optimizer = optim.SGD(model.parameters(), lr=lr, momentum = momentum, dampening = dampening,\n",
    "                      weight_decay = weight_decay, nesterov = nesterov)\n",
    "\n",
    "trainloss = []\n",
    "testloss = []\n",
    "trainacc = []\n",
    "testacc = []\n",
    "no_epoch = []\n",
    "\n",
    "scheduler = StepLR(optimizer, step_size = 10, gamma=0.1) # dynamic learning rate, changes lr after step number of epochs\n",
    "for epoch in range(1, epochs + 1):\n",
    "    scheduler.step()\n",
    "    no_epoch.append(epoch)\n",
    "    \n",
    "    train_loss, train_acc = train(epoch)\n",
    "    trainloss.append(train_loss)\n",
    "    trainacc += [train_acc]\n",
    "    \n",
    "    test_loss, test_acc = test(epoch)\n",
    "    testloss.append(test_loss)\n",
    "    testacc += [test_acc]\n",
    "    \n",
    "# graph()\n",
    "xavier_trainacc = trainacc\n",
    "xavier_testacc = testacc"
   ]
  },
  {
   "cell_type": "code",
   "execution_count": 36,
   "metadata": {
    "collapsed": true
   },
   "outputs": [],
   "source": [
    "toplot = [wdo_trainacc, wodo_trainacc, xavier_trainacc]\n",
    "labels = ['wdo train accuracy', 'wodo train accuracy', 'Xavier train accuracy']"
   ]
  },
  {
   "cell_type": "code",
   "execution_count": 37,
   "metadata": {},
   "outputs": [
    {
     "data": {
      "image/png": "[encoded data removed]",
      "text/plain": [
       "<matplotlib.figure.Figure at 0x7ff8fdca5b10>"
      ]
     },
     "metadata": {},
     "output_type": "display_data"
    }
   ],
   "source": [
    "graph(toplot, labels, 'Train accuracy for various settings', 'epochs', 'Accuracy')"
   ]
  },
  {
   "cell_type": "code",
   "execution_count": 39,
   "metadata": {},
   "outputs": [
    {
     "data": {
      "image/png": "[encoded data removed]",
      "text/plain": [
       "<matplotlib.figure.Figure at 0x7ff8fa7e0550>"
      ]
     },
     "metadata": {},
     "output_type": "display_data"
    }
   ],
   "source": [
    "toplot = [wdo_testacc, wodo_testacc, xavier_testacc]\n",
    "labels = ['wdo test accuracy', 'wodo test accuracy', 'Xavier test accuracy']\n",
    "\n",
    "graph(toplot, labels, 'Test accuracy for various settings', 'epochs', 'Accuracy')"
   ]
  },
  {
   "cell_type": "markdown",
   "metadata": {
    "collapsed": true
   },
   "source": [
    "## Observations\n",
    "\n",
    "Train Accuracy with xavier initialization : 97%\n",
    "\n",
    "Test Accuracy with xavier initialization : 97%\n"
   ]
  },
  {
   "cell_type": "markdown",
   "metadata": {},
   "source": [
    "## Report\n",
    "\n",
    "By including xavier initialization of weights , the net performs as good as when we do not include it."
   ]
  },
  {
   "cell_type": "code",
   "execution_count": null,
   "metadata": {
    "collapsed": true
   },
   "outputs": [],
   "source": []
  }
 ],
 "metadata": {
  "kernelspec": {
   "display_name": "Python 2",
   "language": "python",
   "name": "python2"
  },
  "language_info": {
   "codemirror_mode": {
    "name": "ipython",
    "version": 2
   },
   "file_extension": ".py",
   "mimetype": "text/x-python",
   "name": "python",
   "nbconvert_exporter": "python",
   "pygments_lexer": "ipython2",
   "version": "2.7.14"
  }
 },
 "nbformat": 4,
 "nbformat_minor": 2
}
